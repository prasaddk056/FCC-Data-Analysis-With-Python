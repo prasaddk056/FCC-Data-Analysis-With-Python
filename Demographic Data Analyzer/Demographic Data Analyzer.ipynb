{
 "cells": [
  {
   "cell_type": "code",
   "execution_count": 1,
   "id": "4e08c4d2",
   "metadata": {},
   "outputs": [],
   "source": [
    "import pandas as pd"
   ]
  },
  {
   "cell_type": "code",
   "execution_count": 2,
   "id": "5e7df5c8",
   "metadata": {},
   "outputs": [],
   "source": [
    "df = pd.read_csv('adult.data.csv')"
   ]
  },
  {
   "cell_type": "code",
   "execution_count": 3,
   "id": "e8bc801c",
   "metadata": {},
   "outputs": [
    {
     "data": {
      "text/plain": [
       "(32561, 15)"
      ]
     },
     "execution_count": 3,
     "metadata": {},
     "output_type": "execute_result"
    }
   ],
   "source": [
    "df.shape"
   ]
  },
  {
   "cell_type": "code",
   "execution_count": 4,
   "id": "cd81f883",
   "metadata": {
    "scrolled": true
   },
   "outputs": [
    {
     "data": {
      "text/html": [
       "<div>\n",
       "<style scoped>\n",
       "    .dataframe tbody tr th:only-of-type {\n",
       "        vertical-align: middle;\n",
       "    }\n",
       "\n",
       "    .dataframe tbody tr th {\n",
       "        vertical-align: top;\n",
       "    }\n",
       "\n",
       "    .dataframe thead th {\n",
       "        text-align: right;\n",
       "    }\n",
       "</style>\n",
       "<table border=\"1\" class=\"dataframe\">\n",
       "  <thead>\n",
       "    <tr style=\"text-align: right;\">\n",
       "      <th></th>\n",
       "      <th>age</th>\n",
       "      <th>workclass</th>\n",
       "      <th>fnlwgt</th>\n",
       "      <th>education</th>\n",
       "      <th>education-num</th>\n",
       "      <th>marital-status</th>\n",
       "      <th>occupation</th>\n",
       "      <th>relationship</th>\n",
       "      <th>race</th>\n",
       "      <th>sex</th>\n",
       "      <th>capital-gain</th>\n",
       "      <th>capital-loss</th>\n",
       "      <th>hours-per-week</th>\n",
       "      <th>native-country</th>\n",
       "      <th>salary</th>\n",
       "    </tr>\n",
       "  </thead>\n",
       "  <tbody>\n",
       "    <tr>\n",
       "      <th>0</th>\n",
       "      <td>39</td>\n",
       "      <td>State-gov</td>\n",
       "      <td>77516</td>\n",
       "      <td>Bachelors</td>\n",
       "      <td>13</td>\n",
       "      <td>Never-married</td>\n",
       "      <td>Adm-clerical</td>\n",
       "      <td>Not-in-family</td>\n",
       "      <td>White</td>\n",
       "      <td>Male</td>\n",
       "      <td>2174</td>\n",
       "      <td>0</td>\n",
       "      <td>40</td>\n",
       "      <td>United-States</td>\n",
       "      <td>&lt;=50K</td>\n",
       "    </tr>\n",
       "    <tr>\n",
       "      <th>1</th>\n",
       "      <td>50</td>\n",
       "      <td>Self-emp-not-inc</td>\n",
       "      <td>83311</td>\n",
       "      <td>Bachelors</td>\n",
       "      <td>13</td>\n",
       "      <td>Married-civ-spouse</td>\n",
       "      <td>Exec-managerial</td>\n",
       "      <td>Husband</td>\n",
       "      <td>White</td>\n",
       "      <td>Male</td>\n",
       "      <td>0</td>\n",
       "      <td>0</td>\n",
       "      <td>13</td>\n",
       "      <td>United-States</td>\n",
       "      <td>&lt;=50K</td>\n",
       "    </tr>\n",
       "    <tr>\n",
       "      <th>2</th>\n",
       "      <td>38</td>\n",
       "      <td>Private</td>\n",
       "      <td>215646</td>\n",
       "      <td>HS-grad</td>\n",
       "      <td>9</td>\n",
       "      <td>Divorced</td>\n",
       "      <td>Handlers-cleaners</td>\n",
       "      <td>Not-in-family</td>\n",
       "      <td>White</td>\n",
       "      <td>Male</td>\n",
       "      <td>0</td>\n",
       "      <td>0</td>\n",
       "      <td>40</td>\n",
       "      <td>United-States</td>\n",
       "      <td>&lt;=50K</td>\n",
       "    </tr>\n",
       "    <tr>\n",
       "      <th>3</th>\n",
       "      <td>53</td>\n",
       "      <td>Private</td>\n",
       "      <td>234721</td>\n",
       "      <td>11th</td>\n",
       "      <td>7</td>\n",
       "      <td>Married-civ-spouse</td>\n",
       "      <td>Handlers-cleaners</td>\n",
       "      <td>Husband</td>\n",
       "      <td>Black</td>\n",
       "      <td>Male</td>\n",
       "      <td>0</td>\n",
       "      <td>0</td>\n",
       "      <td>40</td>\n",
       "      <td>United-States</td>\n",
       "      <td>&lt;=50K</td>\n",
       "    </tr>\n",
       "    <tr>\n",
       "      <th>4</th>\n",
       "      <td>28</td>\n",
       "      <td>Private</td>\n",
       "      <td>338409</td>\n",
       "      <td>Bachelors</td>\n",
       "      <td>13</td>\n",
       "      <td>Married-civ-spouse</td>\n",
       "      <td>Prof-specialty</td>\n",
       "      <td>Wife</td>\n",
       "      <td>Black</td>\n",
       "      <td>Female</td>\n",
       "      <td>0</td>\n",
       "      <td>0</td>\n",
       "      <td>40</td>\n",
       "      <td>Cuba</td>\n",
       "      <td>&lt;=50K</td>\n",
       "    </tr>\n",
       "  </tbody>\n",
       "</table>\n",
       "</div>"
      ],
      "text/plain": [
       "   age         workclass  fnlwgt  education  education-num  \\\n",
       "0   39         State-gov   77516  Bachelors             13   \n",
       "1   50  Self-emp-not-inc   83311  Bachelors             13   \n",
       "2   38           Private  215646    HS-grad              9   \n",
       "3   53           Private  234721       11th              7   \n",
       "4   28           Private  338409  Bachelors             13   \n",
       "\n",
       "       marital-status         occupation   relationship   race     sex  \\\n",
       "0       Never-married       Adm-clerical  Not-in-family  White    Male   \n",
       "1  Married-civ-spouse    Exec-managerial        Husband  White    Male   \n",
       "2            Divorced  Handlers-cleaners  Not-in-family  White    Male   \n",
       "3  Married-civ-spouse  Handlers-cleaners        Husband  Black    Male   \n",
       "4  Married-civ-spouse     Prof-specialty           Wife  Black  Female   \n",
       "\n",
       "   capital-gain  capital-loss  hours-per-week native-country salary  \n",
       "0          2174             0              40  United-States  <=50K  \n",
       "1             0             0              13  United-States  <=50K  \n",
       "2             0             0              40  United-States  <=50K  \n",
       "3             0             0              40  United-States  <=50K  \n",
       "4             0             0              40           Cuba  <=50K  "
      ]
     },
     "execution_count": 4,
     "metadata": {},
     "output_type": "execute_result"
    }
   ],
   "source": [
    "df.head()"
   ]
  },
  {
   "cell_type": "code",
   "execution_count": 5,
   "id": "8b49e04f",
   "metadata": {},
   "outputs": [
    {
     "data": {
      "text/html": [
       "<div>\n",
       "<style scoped>\n",
       "    .dataframe tbody tr th:only-of-type {\n",
       "        vertical-align: middle;\n",
       "    }\n",
       "\n",
       "    .dataframe tbody tr th {\n",
       "        vertical-align: top;\n",
       "    }\n",
       "\n",
       "    .dataframe thead th {\n",
       "        text-align: right;\n",
       "    }\n",
       "</style>\n",
       "<table border=\"1\" class=\"dataframe\">\n",
       "  <thead>\n",
       "    <tr style=\"text-align: right;\">\n",
       "      <th></th>\n",
       "      <th>age</th>\n",
       "      <th>workclass</th>\n",
       "      <th>fnlwgt</th>\n",
       "      <th>education</th>\n",
       "      <th>education-num</th>\n",
       "      <th>marital-status</th>\n",
       "      <th>occupation</th>\n",
       "      <th>relationship</th>\n",
       "      <th>race</th>\n",
       "      <th>sex</th>\n",
       "      <th>capital-gain</th>\n",
       "      <th>capital-loss</th>\n",
       "      <th>hours-per-week</th>\n",
       "      <th>native-country</th>\n",
       "      <th>salary</th>\n",
       "    </tr>\n",
       "  </thead>\n",
       "  <tbody>\n",
       "    <tr>\n",
       "      <th>32556</th>\n",
       "      <td>27</td>\n",
       "      <td>Private</td>\n",
       "      <td>257302</td>\n",
       "      <td>Assoc-acdm</td>\n",
       "      <td>12</td>\n",
       "      <td>Married-civ-spouse</td>\n",
       "      <td>Tech-support</td>\n",
       "      <td>Wife</td>\n",
       "      <td>White</td>\n",
       "      <td>Female</td>\n",
       "      <td>0</td>\n",
       "      <td>0</td>\n",
       "      <td>38</td>\n",
       "      <td>United-States</td>\n",
       "      <td>&lt;=50K</td>\n",
       "    </tr>\n",
       "    <tr>\n",
       "      <th>32557</th>\n",
       "      <td>40</td>\n",
       "      <td>Private</td>\n",
       "      <td>154374</td>\n",
       "      <td>HS-grad</td>\n",
       "      <td>9</td>\n",
       "      <td>Married-civ-spouse</td>\n",
       "      <td>Machine-op-inspct</td>\n",
       "      <td>Husband</td>\n",
       "      <td>White</td>\n",
       "      <td>Male</td>\n",
       "      <td>0</td>\n",
       "      <td>0</td>\n",
       "      <td>40</td>\n",
       "      <td>United-States</td>\n",
       "      <td>&gt;50K</td>\n",
       "    </tr>\n",
       "    <tr>\n",
       "      <th>32558</th>\n",
       "      <td>58</td>\n",
       "      <td>Private</td>\n",
       "      <td>151910</td>\n",
       "      <td>HS-grad</td>\n",
       "      <td>9</td>\n",
       "      <td>Widowed</td>\n",
       "      <td>Adm-clerical</td>\n",
       "      <td>Unmarried</td>\n",
       "      <td>White</td>\n",
       "      <td>Female</td>\n",
       "      <td>0</td>\n",
       "      <td>0</td>\n",
       "      <td>40</td>\n",
       "      <td>United-States</td>\n",
       "      <td>&lt;=50K</td>\n",
       "    </tr>\n",
       "    <tr>\n",
       "      <th>32559</th>\n",
       "      <td>22</td>\n",
       "      <td>Private</td>\n",
       "      <td>201490</td>\n",
       "      <td>HS-grad</td>\n",
       "      <td>9</td>\n",
       "      <td>Never-married</td>\n",
       "      <td>Adm-clerical</td>\n",
       "      <td>Own-child</td>\n",
       "      <td>White</td>\n",
       "      <td>Male</td>\n",
       "      <td>0</td>\n",
       "      <td>0</td>\n",
       "      <td>20</td>\n",
       "      <td>United-States</td>\n",
       "      <td>&lt;=50K</td>\n",
       "    </tr>\n",
       "    <tr>\n",
       "      <th>32560</th>\n",
       "      <td>52</td>\n",
       "      <td>Self-emp-inc</td>\n",
       "      <td>287927</td>\n",
       "      <td>HS-grad</td>\n",
       "      <td>9</td>\n",
       "      <td>Married-civ-spouse</td>\n",
       "      <td>Exec-managerial</td>\n",
       "      <td>Wife</td>\n",
       "      <td>White</td>\n",
       "      <td>Female</td>\n",
       "      <td>15024</td>\n",
       "      <td>0</td>\n",
       "      <td>40</td>\n",
       "      <td>United-States</td>\n",
       "      <td>&gt;50K</td>\n",
       "    </tr>\n",
       "  </tbody>\n",
       "</table>\n",
       "</div>"
      ],
      "text/plain": [
       "       age     workclass  fnlwgt   education  education-num  \\\n",
       "32556   27       Private  257302  Assoc-acdm             12   \n",
       "32557   40       Private  154374     HS-grad              9   \n",
       "32558   58       Private  151910     HS-grad              9   \n",
       "32559   22       Private  201490     HS-grad              9   \n",
       "32560   52  Self-emp-inc  287927     HS-grad              9   \n",
       "\n",
       "           marital-status         occupation relationship   race     sex  \\\n",
       "32556  Married-civ-spouse       Tech-support         Wife  White  Female   \n",
       "32557  Married-civ-spouse  Machine-op-inspct      Husband  White    Male   \n",
       "32558             Widowed       Adm-clerical    Unmarried  White  Female   \n",
       "32559       Never-married       Adm-clerical    Own-child  White    Male   \n",
       "32560  Married-civ-spouse    Exec-managerial         Wife  White  Female   \n",
       "\n",
       "       capital-gain  capital-loss  hours-per-week native-country salary  \n",
       "32556             0             0              38  United-States  <=50K  \n",
       "32557             0             0              40  United-States   >50K  \n",
       "32558             0             0              40  United-States  <=50K  \n",
       "32559             0             0              20  United-States  <=50K  \n",
       "32560         15024             0              40  United-States   >50K  "
      ]
     },
     "execution_count": 5,
     "metadata": {},
     "output_type": "execute_result"
    }
   ],
   "source": [
    "df.tail()"
   ]
  },
  {
   "cell_type": "code",
   "execution_count": 6,
   "id": "b1a63323",
   "metadata": {},
   "outputs": [
    {
     "name": "stdout",
     "output_type": "stream",
     "text": [
      "<class 'pandas.core.frame.DataFrame'>\n",
      "RangeIndex: 32561 entries, 0 to 32560\n",
      "Data columns (total 15 columns):\n",
      " #   Column          Non-Null Count  Dtype \n",
      "---  ------          --------------  ----- \n",
      " 0   age             32561 non-null  int64 \n",
      " 1   workclass       32561 non-null  object\n",
      " 2   fnlwgt          32561 non-null  int64 \n",
      " 3   education       32561 non-null  object\n",
      " 4   education-num   32561 non-null  int64 \n",
      " 5   marital-status  32561 non-null  object\n",
      " 6   occupation      32561 non-null  object\n",
      " 7   relationship    32561 non-null  object\n",
      " 8   race            32561 non-null  object\n",
      " 9   sex             32561 non-null  object\n",
      " 10  capital-gain    32561 non-null  int64 \n",
      " 11  capital-loss    32561 non-null  int64 \n",
      " 12  hours-per-week  32561 non-null  int64 \n",
      " 13  native-country  32561 non-null  object\n",
      " 14  salary          32561 non-null  object\n",
      "dtypes: int64(6), object(9)\n",
      "memory usage: 3.7+ MB\n"
     ]
    }
   ],
   "source": [
    "df.info()"
   ]
  },
  {
   "cell_type": "code",
   "execution_count": 7,
   "id": "89babc93",
   "metadata": {
    "scrolled": true
   },
   "outputs": [
    {
     "data": {
      "text/html": [
       "<div>\n",
       "<style scoped>\n",
       "    .dataframe tbody tr th:only-of-type {\n",
       "        vertical-align: middle;\n",
       "    }\n",
       "\n",
       "    .dataframe tbody tr th {\n",
       "        vertical-align: top;\n",
       "    }\n",
       "\n",
       "    .dataframe thead th {\n",
       "        text-align: right;\n",
       "    }\n",
       "</style>\n",
       "<table border=\"1\" class=\"dataframe\">\n",
       "  <thead>\n",
       "    <tr style=\"text-align: right;\">\n",
       "      <th></th>\n",
       "      <th>age</th>\n",
       "      <th>fnlwgt</th>\n",
       "      <th>education-num</th>\n",
       "      <th>capital-gain</th>\n",
       "      <th>capital-loss</th>\n",
       "      <th>hours-per-week</th>\n",
       "    </tr>\n",
       "  </thead>\n",
       "  <tbody>\n",
       "    <tr>\n",
       "      <th>count</th>\n",
       "      <td>32561.000000</td>\n",
       "      <td>3.256100e+04</td>\n",
       "      <td>32561.000000</td>\n",
       "      <td>32561.000000</td>\n",
       "      <td>32561.000000</td>\n",
       "      <td>32561.000000</td>\n",
       "    </tr>\n",
       "    <tr>\n",
       "      <th>mean</th>\n",
       "      <td>38.581647</td>\n",
       "      <td>1.897784e+05</td>\n",
       "      <td>10.080679</td>\n",
       "      <td>1077.648844</td>\n",
       "      <td>87.303830</td>\n",
       "      <td>40.437456</td>\n",
       "    </tr>\n",
       "    <tr>\n",
       "      <th>std</th>\n",
       "      <td>13.640433</td>\n",
       "      <td>1.055500e+05</td>\n",
       "      <td>2.572720</td>\n",
       "      <td>7385.292085</td>\n",
       "      <td>402.960219</td>\n",
       "      <td>12.347429</td>\n",
       "    </tr>\n",
       "    <tr>\n",
       "      <th>min</th>\n",
       "      <td>17.000000</td>\n",
       "      <td>1.228500e+04</td>\n",
       "      <td>1.000000</td>\n",
       "      <td>0.000000</td>\n",
       "      <td>0.000000</td>\n",
       "      <td>1.000000</td>\n",
       "    </tr>\n",
       "    <tr>\n",
       "      <th>25%</th>\n",
       "      <td>28.000000</td>\n",
       "      <td>1.178270e+05</td>\n",
       "      <td>9.000000</td>\n",
       "      <td>0.000000</td>\n",
       "      <td>0.000000</td>\n",
       "      <td>40.000000</td>\n",
       "    </tr>\n",
       "    <tr>\n",
       "      <th>50%</th>\n",
       "      <td>37.000000</td>\n",
       "      <td>1.783560e+05</td>\n",
       "      <td>10.000000</td>\n",
       "      <td>0.000000</td>\n",
       "      <td>0.000000</td>\n",
       "      <td>40.000000</td>\n",
       "    </tr>\n",
       "    <tr>\n",
       "      <th>75%</th>\n",
       "      <td>48.000000</td>\n",
       "      <td>2.370510e+05</td>\n",
       "      <td>12.000000</td>\n",
       "      <td>0.000000</td>\n",
       "      <td>0.000000</td>\n",
       "      <td>45.000000</td>\n",
       "    </tr>\n",
       "    <tr>\n",
       "      <th>max</th>\n",
       "      <td>90.000000</td>\n",
       "      <td>1.484705e+06</td>\n",
       "      <td>16.000000</td>\n",
       "      <td>99999.000000</td>\n",
       "      <td>4356.000000</td>\n",
       "      <td>99.000000</td>\n",
       "    </tr>\n",
       "  </tbody>\n",
       "</table>\n",
       "</div>"
      ],
      "text/plain": [
       "                age        fnlwgt  education-num  capital-gain  capital-loss  \\\n",
       "count  32561.000000  3.256100e+04   32561.000000  32561.000000  32561.000000   \n",
       "mean      38.581647  1.897784e+05      10.080679   1077.648844     87.303830   \n",
       "std       13.640433  1.055500e+05       2.572720   7385.292085    402.960219   \n",
       "min       17.000000  1.228500e+04       1.000000      0.000000      0.000000   \n",
       "25%       28.000000  1.178270e+05       9.000000      0.000000      0.000000   \n",
       "50%       37.000000  1.783560e+05      10.000000      0.000000      0.000000   \n",
       "75%       48.000000  2.370510e+05      12.000000      0.000000      0.000000   \n",
       "max       90.000000  1.484705e+06      16.000000  99999.000000   4356.000000   \n",
       "\n",
       "       hours-per-week  \n",
       "count    32561.000000  \n",
       "mean        40.437456  \n",
       "std         12.347429  \n",
       "min          1.000000  \n",
       "25%         40.000000  \n",
       "50%         40.000000  \n",
       "75%         45.000000  \n",
       "max         99.000000  "
      ]
     },
     "execution_count": 7,
     "metadata": {},
     "output_type": "execute_result"
    }
   ],
   "source": [
    "df.describe()"
   ]
  },
  {
   "cell_type": "markdown",
   "id": "ff4ed0fa",
   "metadata": {},
   "source": [
    "### How many of each race are represented in this dataset? This should be a Pandas series with race names as the index labels."
   ]
  },
  {
   "cell_type": "code",
   "execution_count": 8,
   "id": "ba766bb1",
   "metadata": {},
   "outputs": [
    {
     "data": {
      "text/plain": [
       "0        White\n",
       "1        White\n",
       "2        White\n",
       "3        Black\n",
       "4        Black\n",
       "         ...  \n",
       "32556    White\n",
       "32557    White\n",
       "32558    White\n",
       "32559    White\n",
       "32560    White\n",
       "Name: race, Length: 32561, dtype: object"
      ]
     },
     "execution_count": 8,
     "metadata": {},
     "output_type": "execute_result"
    }
   ],
   "source": [
    "df['race']"
   ]
  },
  {
   "cell_type": "code",
   "execution_count": 9,
   "id": "92174b19",
   "metadata": {},
   "outputs": [],
   "source": [
    "race_count = df['race'].value_counts()"
   ]
  },
  {
   "cell_type": "code",
   "execution_count": 10,
   "id": "22c02577",
   "metadata": {},
   "outputs": [
    {
     "data": {
      "text/plain": [
       "White                 27816\n",
       "Black                  3124\n",
       "Asian-Pac-Islander     1039\n",
       "Amer-Indian-Eskimo      311\n",
       "Other                   271\n",
       "Name: race, dtype: int64"
      ]
     },
     "execution_count": 10,
     "metadata": {},
     "output_type": "execute_result"
    }
   ],
   "source": [
    "race_count"
   ]
  },
  {
   "cell_type": "markdown",
   "id": "3eae3d0d",
   "metadata": {},
   "source": [
    "### What is the average age of men?"
   ]
  },
  {
   "cell_type": "code",
   "execution_count": 11,
   "id": "5a66a2a7",
   "metadata": {},
   "outputs": [
    {
     "data": {
      "text/plain": [
       "0         True\n",
       "1         True\n",
       "2         True\n",
       "3         True\n",
       "4        False\n",
       "         ...  \n",
       "32556    False\n",
       "32557     True\n",
       "32558    False\n",
       "32559     True\n",
       "32560    False\n",
       "Name: sex, Length: 32561, dtype: bool"
      ]
     },
     "execution_count": 11,
     "metadata": {},
     "output_type": "execute_result"
    }
   ],
   "source": [
    "df['sex'] == 'Male'"
   ]
  },
  {
   "cell_type": "code",
   "execution_count": 12,
   "id": "00d2763e",
   "metadata": {},
   "outputs": [
    {
     "data": {
      "text/plain": [
       "0        39\n",
       "1        50\n",
       "2        38\n",
       "3        53\n",
       "7        52\n",
       "         ..\n",
       "32553    32\n",
       "32554    53\n",
       "32555    22\n",
       "32557    40\n",
       "32559    22\n",
       "Name: age, Length: 21790, dtype: int64"
      ]
     },
     "execution_count": 12,
     "metadata": {},
     "output_type": "execute_result"
    }
   ],
   "source": [
    "df[df['sex'] == 'Male']['age']"
   ]
  },
  {
   "cell_type": "code",
   "execution_count": 13,
   "id": "f3d3dbdd",
   "metadata": {
    "scrolled": true
   },
   "outputs": [
    {
     "data": {
      "text/plain": [
       "39.43354749885268"
      ]
     },
     "execution_count": 13,
     "metadata": {},
     "output_type": "execute_result"
    }
   ],
   "source": [
    "df.loc[df['sex'] == 'Male', 'age'].mean()"
   ]
  },
  {
   "cell_type": "code",
   "execution_count": 14,
   "id": "8ba5204c",
   "metadata": {},
   "outputs": [
    {
     "data": {
      "text/plain": [
       "39.43354749885268"
      ]
     },
     "execution_count": 14,
     "metadata": {},
     "output_type": "execute_result"
    }
   ],
   "source": [
    "df.loc[df['sex'] == 'Male', 'age'].mean()"
   ]
  },
  {
   "cell_type": "code",
   "execution_count": 15,
   "id": "c1a32515",
   "metadata": {},
   "outputs": [],
   "source": [
    "average_age_men = round(df.loc[df['sex'] == 'Male', 'age'].mean(),1)"
   ]
  },
  {
   "cell_type": "code",
   "execution_count": 16,
   "id": "bf478d5b",
   "metadata": {},
   "outputs": [
    {
     "data": {
      "text/plain": [
       "39.4"
      ]
     },
     "execution_count": 16,
     "metadata": {},
     "output_type": "execute_result"
    }
   ],
   "source": [
    "average_age_men"
   ]
  },
  {
   "cell_type": "markdown",
   "id": "396e4045",
   "metadata": {},
   "source": [
    "### What is the percentage of people who have a Bachelor's degree?"
   ]
  },
  {
   "cell_type": "code",
   "execution_count": 17,
   "id": "1f6fc946",
   "metadata": {},
   "outputs": [
    {
     "data": {
      "text/plain": [
       "0         True\n",
       "1         True\n",
       "2        False\n",
       "3        False\n",
       "4         True\n",
       "         ...  \n",
       "32556    False\n",
       "32557    False\n",
       "32558    False\n",
       "32559    False\n",
       "32560    False\n",
       "Name: education, Length: 32561, dtype: bool"
      ]
     },
     "execution_count": 17,
     "metadata": {},
     "output_type": "execute_result"
    }
   ],
   "source": [
    "df['education'] == 'Bachelors'"
   ]
  },
  {
   "cell_type": "code",
   "execution_count": 18,
   "id": "10002d25",
   "metadata": {
    "scrolled": true
   },
   "outputs": [
    {
     "data": {
      "text/plain": [
       "age               5355\n",
       "workclass         5355\n",
       "fnlwgt            5355\n",
       "education         5355\n",
       "education-num     5355\n",
       "marital-status    5355\n",
       "occupation        5355\n",
       "relationship      5355\n",
       "race              5355\n",
       "sex               5355\n",
       "capital-gain      5355\n",
       "capital-loss      5355\n",
       "hours-per-week    5355\n",
       "native-country    5355\n",
       "salary            5355\n",
       "dtype: int64"
      ]
     },
     "execution_count": 18,
     "metadata": {},
     "output_type": "execute_result"
    }
   ],
   "source": [
    "df[df['education'] == 'Bachelors'].count()"
   ]
  },
  {
   "cell_type": "code",
   "execution_count": 19,
   "id": "ca3340be",
   "metadata": {},
   "outputs": [
    {
     "data": {
      "text/plain": [
       "0        Bachelors\n",
       "1        Bachelors\n",
       "4        Bachelors\n",
       "9        Bachelors\n",
       "11       Bachelors\n",
       "           ...    \n",
       "32530    Bachelors\n",
       "32531    Bachelors\n",
       "32533    Bachelors\n",
       "32536    Bachelors\n",
       "32538    Bachelors\n",
       "Name: education, Length: 5355, dtype: object"
      ]
     },
     "execution_count": 19,
     "metadata": {},
     "output_type": "execute_result"
    }
   ],
   "source": [
    "df.loc[df['education'] == 'Bachelors','education']"
   ]
  },
  {
   "cell_type": "code",
   "execution_count": 20,
   "id": "248425ab",
   "metadata": {
    "scrolled": true
   },
   "outputs": [
    {
     "data": {
      "text/plain": [
       "5355"
      ]
     },
     "execution_count": 20,
     "metadata": {},
     "output_type": "execute_result"
    }
   ],
   "source": [
    "df[df['education'] == 'Bachelors']['education'].count()"
   ]
  },
  {
   "cell_type": "code",
   "execution_count": 21,
   "id": "2ffd69c7",
   "metadata": {},
   "outputs": [
    {
     "data": {
      "text/plain": [
       "32561"
      ]
     },
     "execution_count": 21,
     "metadata": {},
     "output_type": "execute_result"
    }
   ],
   "source": [
    "df.shape[0]"
   ]
  },
  {
   "cell_type": "code",
   "execution_count": 22,
   "id": "10726ecb",
   "metadata": {
    "scrolled": true
   },
   "outputs": [
    {
     "data": {
      "text/plain": [
       "0.16446055096587942"
      ]
     },
     "execution_count": 22,
     "metadata": {},
     "output_type": "execute_result"
    }
   ],
   "source": [
    "df[df['education'] == 'Bachelors']['education'].count()/df.shape[0]"
   ]
  },
  {
   "cell_type": "code",
   "execution_count": 23,
   "id": "cae868b5",
   "metadata": {},
   "outputs": [
    {
     "data": {
      "text/plain": [
       "16.44605509658794"
      ]
     },
     "execution_count": 23,
     "metadata": {},
     "output_type": "execute_result"
    }
   ],
   "source": [
    "df[df['education'] == 'Bachelors']['education'].count()/df.shape[0] * 100"
   ]
  },
  {
   "cell_type": "code",
   "execution_count": 24,
   "id": "d3d5921c",
   "metadata": {},
   "outputs": [],
   "source": [
    "percentage_bachelors = round((df[df['education'] == 'Bachelors']['education'].count() / df.shape[0])* 100, 1)\n"
   ]
  },
  {
   "cell_type": "code",
   "execution_count": 25,
   "id": "44893574",
   "metadata": {},
   "outputs": [
    {
     "data": {
      "text/plain": [
       "16.4"
      ]
     },
     "execution_count": 25,
     "metadata": {},
     "output_type": "execute_result"
    }
   ],
   "source": [
    "percentage_bachelors"
   ]
  },
  {
   "cell_type": "markdown",
   "id": "1ee2ebc0",
   "metadata": {},
   "source": [
    "### What percentage of people with advanced education (Bachelors, Masters, or Doctorate) make more than 50K?"
   ]
  },
  {
   "cell_type": "code",
   "execution_count": 26,
   "id": "87eceedf",
   "metadata": {
    "scrolled": true
   },
   "outputs": [
    {
     "data": {
      "text/plain": [
       "0         True\n",
       "1         True\n",
       "2        False\n",
       "3        False\n",
       "4         True\n",
       "         ...  \n",
       "32556    False\n",
       "32557    False\n",
       "32558    False\n",
       "32559    False\n",
       "32560    False\n",
       "Name: education, Length: 32561, dtype: bool"
      ]
     },
     "execution_count": 26,
     "metadata": {},
     "output_type": "execute_result"
    }
   ],
   "source": [
    "df['education'].isin(['Bachelors','Masters','Doctorate'])"
   ]
  },
  {
   "cell_type": "code",
   "execution_count": 27,
   "id": "509e1e63",
   "metadata": {},
   "outputs": [
    {
     "data": {
      "text/plain": [
       "age               7491\n",
       "workclass         7491\n",
       "fnlwgt            7491\n",
       "education         7491\n",
       "education-num     7491\n",
       "marital-status    7491\n",
       "occupation        7491\n",
       "relationship      7491\n",
       "race              7491\n",
       "sex               7491\n",
       "capital-gain      7491\n",
       "capital-loss      7491\n",
       "hours-per-week    7491\n",
       "native-country    7491\n",
       "salary            7491\n",
       "dtype: int64"
      ]
     },
     "execution_count": 27,
     "metadata": {},
     "output_type": "execute_result"
    }
   ],
   "source": [
    "df.loc[df['education'].isin(['Bachelors','Masters','Doctorate'])].count()"
   ]
  },
  {
   "cell_type": "code",
   "execution_count": 28,
   "id": "2984cdff",
   "metadata": {
    "scrolled": true
   },
   "outputs": [
    {
     "data": {
      "text/plain": [
       "age               7491\n",
       "workclass         7491\n",
       "fnlwgt            7491\n",
       "education         7491\n",
       "education-num     7491\n",
       "marital-status    7491\n",
       "occupation        7491\n",
       "relationship      7491\n",
       "race              7491\n",
       "sex               7491\n",
       "capital-gain      7491\n",
       "capital-loss      7491\n",
       "hours-per-week    7491\n",
       "native-country    7491\n",
       "salary            7491\n",
       "dtype: int64"
      ]
     },
     "execution_count": 28,
     "metadata": {},
     "output_type": "execute_result"
    }
   ],
   "source": [
    "df[df['education'].isin(['Bachelors','Masters','Doctorate'])].count()"
   ]
  },
  {
   "cell_type": "code",
   "execution_count": 29,
   "id": "3e87754c",
   "metadata": {},
   "outputs": [],
   "source": [
    "higher_education = df[df['education'].isin(['Bachelors','Masters','Doctorate'])]"
   ]
  },
  {
   "cell_type": "code",
   "execution_count": 30,
   "id": "55a8decc",
   "metadata": {},
   "outputs": [
    {
     "data": {
      "text/html": [
       "<div>\n",
       "<style scoped>\n",
       "    .dataframe tbody tr th:only-of-type {\n",
       "        vertical-align: middle;\n",
       "    }\n",
       "\n",
       "    .dataframe tbody tr th {\n",
       "        vertical-align: top;\n",
       "    }\n",
       "\n",
       "    .dataframe thead th {\n",
       "        text-align: right;\n",
       "    }\n",
       "</style>\n",
       "<table border=\"1\" class=\"dataframe\">\n",
       "  <thead>\n",
       "    <tr style=\"text-align: right;\">\n",
       "      <th></th>\n",
       "      <th>age</th>\n",
       "      <th>workclass</th>\n",
       "      <th>fnlwgt</th>\n",
       "      <th>education</th>\n",
       "      <th>education-num</th>\n",
       "      <th>marital-status</th>\n",
       "      <th>occupation</th>\n",
       "      <th>relationship</th>\n",
       "      <th>race</th>\n",
       "      <th>sex</th>\n",
       "      <th>capital-gain</th>\n",
       "      <th>capital-loss</th>\n",
       "      <th>hours-per-week</th>\n",
       "      <th>native-country</th>\n",
       "      <th>salary</th>\n",
       "    </tr>\n",
       "  </thead>\n",
       "  <tbody>\n",
       "    <tr>\n",
       "      <th>0</th>\n",
       "      <td>39</td>\n",
       "      <td>State-gov</td>\n",
       "      <td>77516</td>\n",
       "      <td>Bachelors</td>\n",
       "      <td>13</td>\n",
       "      <td>Never-married</td>\n",
       "      <td>Adm-clerical</td>\n",
       "      <td>Not-in-family</td>\n",
       "      <td>White</td>\n",
       "      <td>Male</td>\n",
       "      <td>2174</td>\n",
       "      <td>0</td>\n",
       "      <td>40</td>\n",
       "      <td>United-States</td>\n",
       "      <td>&lt;=50K</td>\n",
       "    </tr>\n",
       "    <tr>\n",
       "      <th>1</th>\n",
       "      <td>50</td>\n",
       "      <td>Self-emp-not-inc</td>\n",
       "      <td>83311</td>\n",
       "      <td>Bachelors</td>\n",
       "      <td>13</td>\n",
       "      <td>Married-civ-spouse</td>\n",
       "      <td>Exec-managerial</td>\n",
       "      <td>Husband</td>\n",
       "      <td>White</td>\n",
       "      <td>Male</td>\n",
       "      <td>0</td>\n",
       "      <td>0</td>\n",
       "      <td>13</td>\n",
       "      <td>United-States</td>\n",
       "      <td>&lt;=50K</td>\n",
       "    </tr>\n",
       "    <tr>\n",
       "      <th>4</th>\n",
       "      <td>28</td>\n",
       "      <td>Private</td>\n",
       "      <td>338409</td>\n",
       "      <td>Bachelors</td>\n",
       "      <td>13</td>\n",
       "      <td>Married-civ-spouse</td>\n",
       "      <td>Prof-specialty</td>\n",
       "      <td>Wife</td>\n",
       "      <td>Black</td>\n",
       "      <td>Female</td>\n",
       "      <td>0</td>\n",
       "      <td>0</td>\n",
       "      <td>40</td>\n",
       "      <td>Cuba</td>\n",
       "      <td>&lt;=50K</td>\n",
       "    </tr>\n",
       "    <tr>\n",
       "      <th>5</th>\n",
       "      <td>37</td>\n",
       "      <td>Private</td>\n",
       "      <td>284582</td>\n",
       "      <td>Masters</td>\n",
       "      <td>14</td>\n",
       "      <td>Married-civ-spouse</td>\n",
       "      <td>Exec-managerial</td>\n",
       "      <td>Wife</td>\n",
       "      <td>White</td>\n",
       "      <td>Female</td>\n",
       "      <td>0</td>\n",
       "      <td>0</td>\n",
       "      <td>40</td>\n",
       "      <td>United-States</td>\n",
       "      <td>&lt;=50K</td>\n",
       "    </tr>\n",
       "    <tr>\n",
       "      <th>8</th>\n",
       "      <td>31</td>\n",
       "      <td>Private</td>\n",
       "      <td>45781</td>\n",
       "      <td>Masters</td>\n",
       "      <td>14</td>\n",
       "      <td>Never-married</td>\n",
       "      <td>Prof-specialty</td>\n",
       "      <td>Not-in-family</td>\n",
       "      <td>White</td>\n",
       "      <td>Female</td>\n",
       "      <td>14084</td>\n",
       "      <td>0</td>\n",
       "      <td>50</td>\n",
       "      <td>United-States</td>\n",
       "      <td>&gt;50K</td>\n",
       "    </tr>\n",
       "    <tr>\n",
       "      <th>...</th>\n",
       "      <td>...</td>\n",
       "      <td>...</td>\n",
       "      <td>...</td>\n",
       "      <td>...</td>\n",
       "      <td>...</td>\n",
       "      <td>...</td>\n",
       "      <td>...</td>\n",
       "      <td>...</td>\n",
       "      <td>...</td>\n",
       "      <td>...</td>\n",
       "      <td>...</td>\n",
       "      <td>...</td>\n",
       "      <td>...</td>\n",
       "      <td>...</td>\n",
       "      <td>...</td>\n",
       "    </tr>\n",
       "    <tr>\n",
       "      <th>32538</th>\n",
       "      <td>38</td>\n",
       "      <td>Private</td>\n",
       "      <td>139180</td>\n",
       "      <td>Bachelors</td>\n",
       "      <td>13</td>\n",
       "      <td>Divorced</td>\n",
       "      <td>Prof-specialty</td>\n",
       "      <td>Unmarried</td>\n",
       "      <td>Black</td>\n",
       "      <td>Female</td>\n",
       "      <td>15020</td>\n",
       "      <td>0</td>\n",
       "      <td>45</td>\n",
       "      <td>United-States</td>\n",
       "      <td>&gt;50K</td>\n",
       "    </tr>\n",
       "    <tr>\n",
       "      <th>32539</th>\n",
       "      <td>71</td>\n",
       "      <td>?</td>\n",
       "      <td>287372</td>\n",
       "      <td>Doctorate</td>\n",
       "      <td>16</td>\n",
       "      <td>Married-civ-spouse</td>\n",
       "      <td>?</td>\n",
       "      <td>Husband</td>\n",
       "      <td>White</td>\n",
       "      <td>Male</td>\n",
       "      <td>0</td>\n",
       "      <td>0</td>\n",
       "      <td>10</td>\n",
       "      <td>United-States</td>\n",
       "      <td>&gt;50K</td>\n",
       "    </tr>\n",
       "    <tr>\n",
       "      <th>32544</th>\n",
       "      <td>31</td>\n",
       "      <td>Private</td>\n",
       "      <td>199655</td>\n",
       "      <td>Masters</td>\n",
       "      <td>14</td>\n",
       "      <td>Divorced</td>\n",
       "      <td>Other-service</td>\n",
       "      <td>Not-in-family</td>\n",
       "      <td>Other</td>\n",
       "      <td>Female</td>\n",
       "      <td>0</td>\n",
       "      <td>0</td>\n",
       "      <td>30</td>\n",
       "      <td>United-States</td>\n",
       "      <td>&lt;=50K</td>\n",
       "    </tr>\n",
       "    <tr>\n",
       "      <th>32553</th>\n",
       "      <td>32</td>\n",
       "      <td>Private</td>\n",
       "      <td>116138</td>\n",
       "      <td>Masters</td>\n",
       "      <td>14</td>\n",
       "      <td>Never-married</td>\n",
       "      <td>Tech-support</td>\n",
       "      <td>Not-in-family</td>\n",
       "      <td>Asian-Pac-Islander</td>\n",
       "      <td>Male</td>\n",
       "      <td>0</td>\n",
       "      <td>0</td>\n",
       "      <td>11</td>\n",
       "      <td>Taiwan</td>\n",
       "      <td>&lt;=50K</td>\n",
       "    </tr>\n",
       "    <tr>\n",
       "      <th>32554</th>\n",
       "      <td>53</td>\n",
       "      <td>Private</td>\n",
       "      <td>321865</td>\n",
       "      <td>Masters</td>\n",
       "      <td>14</td>\n",
       "      <td>Married-civ-spouse</td>\n",
       "      <td>Exec-managerial</td>\n",
       "      <td>Husband</td>\n",
       "      <td>White</td>\n",
       "      <td>Male</td>\n",
       "      <td>0</td>\n",
       "      <td>0</td>\n",
       "      <td>40</td>\n",
       "      <td>United-States</td>\n",
       "      <td>&gt;50K</td>\n",
       "    </tr>\n",
       "  </tbody>\n",
       "</table>\n",
       "<p>7491 rows × 15 columns</p>\n",
       "</div>"
      ],
      "text/plain": [
       "       age         workclass  fnlwgt  education  education-num  \\\n",
       "0       39         State-gov   77516  Bachelors             13   \n",
       "1       50  Self-emp-not-inc   83311  Bachelors             13   \n",
       "4       28           Private  338409  Bachelors             13   \n",
       "5       37           Private  284582    Masters             14   \n",
       "8       31           Private   45781    Masters             14   \n",
       "...    ...               ...     ...        ...            ...   \n",
       "32538   38           Private  139180  Bachelors             13   \n",
       "32539   71                 ?  287372  Doctorate             16   \n",
       "32544   31           Private  199655    Masters             14   \n",
       "32553   32           Private  116138    Masters             14   \n",
       "32554   53           Private  321865    Masters             14   \n",
       "\n",
       "           marital-status       occupation   relationship                race  \\\n",
       "0           Never-married     Adm-clerical  Not-in-family               White   \n",
       "1      Married-civ-spouse  Exec-managerial        Husband               White   \n",
       "4      Married-civ-spouse   Prof-specialty           Wife               Black   \n",
       "5      Married-civ-spouse  Exec-managerial           Wife               White   \n",
       "8           Never-married   Prof-specialty  Not-in-family               White   \n",
       "...                   ...              ...            ...                 ...   \n",
       "32538            Divorced   Prof-specialty      Unmarried               Black   \n",
       "32539  Married-civ-spouse                ?        Husband               White   \n",
       "32544            Divorced    Other-service  Not-in-family               Other   \n",
       "32553       Never-married     Tech-support  Not-in-family  Asian-Pac-Islander   \n",
       "32554  Married-civ-spouse  Exec-managerial        Husband               White   \n",
       "\n",
       "          sex  capital-gain  capital-loss  hours-per-week native-country  \\\n",
       "0        Male          2174             0              40  United-States   \n",
       "1        Male             0             0              13  United-States   \n",
       "4      Female             0             0              40           Cuba   \n",
       "5      Female             0             0              40  United-States   \n",
       "8      Female         14084             0              50  United-States   \n",
       "...       ...           ...           ...             ...            ...   \n",
       "32538  Female         15020             0              45  United-States   \n",
       "32539    Male             0             0              10  United-States   \n",
       "32544  Female             0             0              30  United-States   \n",
       "32553    Male             0             0              11         Taiwan   \n",
       "32554    Male             0             0              40  United-States   \n",
       "\n",
       "      salary  \n",
       "0      <=50K  \n",
       "1      <=50K  \n",
       "4      <=50K  \n",
       "5      <=50K  \n",
       "8       >50K  \n",
       "...      ...  \n",
       "32538   >50K  \n",
       "32539   >50K  \n",
       "32544  <=50K  \n",
       "32553  <=50K  \n",
       "32554   >50K  \n",
       "\n",
       "[7491 rows x 15 columns]"
      ]
     },
     "execution_count": 30,
     "metadata": {},
     "output_type": "execute_result"
    }
   ],
   "source": [
    "higher_education"
   ]
  },
  {
   "cell_type": "code",
   "execution_count": 31,
   "id": "88a85cd1",
   "metadata": {},
   "outputs": [
    {
     "data": {
      "text/plain": [
       "0        False\n",
       "1        False\n",
       "4        False\n",
       "5        False\n",
       "8         True\n",
       "         ...  \n",
       "32538     True\n",
       "32539     True\n",
       "32544    False\n",
       "32553    False\n",
       "32554     True\n",
       "Name: salary, Length: 7491, dtype: bool"
      ]
     },
     "execution_count": 31,
     "metadata": {},
     "output_type": "execute_result"
    }
   ],
   "source": [
    "(higher_education['salary'] == '>50K')"
   ]
  },
  {
   "cell_type": "code",
   "execution_count": 32,
   "id": "4d3e2e93",
   "metadata": {},
   "outputs": [
    {
     "data": {
      "text/plain": [
       "3486"
      ]
     },
     "execution_count": 32,
     "metadata": {},
     "output_type": "execute_result"
    }
   ],
   "source": [
    "higher_education[higher_education['salary'] == '>50K']['salary'].count()"
   ]
  },
  {
   "cell_type": "code",
   "execution_count": 33,
   "id": "b736d00c",
   "metadata": {
    "scrolled": true
   },
   "outputs": [
    {
     "data": {
      "text/plain": [
       "7491"
      ]
     },
     "execution_count": 33,
     "metadata": {},
     "output_type": "execute_result"
    }
   ],
   "source": [
    "higher_education.shape[0]"
   ]
  },
  {
   "cell_type": "code",
   "execution_count": 34,
   "id": "a05468c5",
   "metadata": {},
   "outputs": [
    {
     "data": {
      "text/plain": [
       "0.46535843011613937"
      ]
     },
     "execution_count": 34,
     "metadata": {},
     "output_type": "execute_result"
    }
   ],
   "source": [
    "higher_education[higher_education['salary'] == '>50K']['salary'].count()/higher_education.shape[0]"
   ]
  },
  {
   "cell_type": "code",
   "execution_count": 35,
   "id": "82a752bd",
   "metadata": {
    "scrolled": true
   },
   "outputs": [
    {
     "data": {
      "text/plain": [
       "46.535843011613935"
      ]
     },
     "execution_count": 35,
     "metadata": {},
     "output_type": "execute_result"
    }
   ],
   "source": [
    "higher_education[higher_education['salary'] == '>50K']['salary'].count()/higher_education.shape[0] * 100"
   ]
  },
  {
   "cell_type": "code",
   "execution_count": 36,
   "id": "59f86ccf",
   "metadata": {},
   "outputs": [],
   "source": [
    "higher_education_rich = round(higher_education[higher_education['salary'] == '>50K']['salary'].count() / higher_education.shape[0] * 100, 1)\n"
   ]
  },
  {
   "cell_type": "code",
   "execution_count": 37,
   "id": "24f5eba6",
   "metadata": {},
   "outputs": [
    {
     "data": {
      "text/plain": [
       "46.5"
      ]
     },
     "execution_count": 37,
     "metadata": {},
     "output_type": "execute_result"
    }
   ],
   "source": [
    "higher_education_rich"
   ]
  },
  {
   "cell_type": "markdown",
   "id": "dd712a94",
   "metadata": {},
   "source": [
    "### What percentage of people without advanced education make more than 50K?"
   ]
  },
  {
   "cell_type": "code",
   "execution_count": 38,
   "id": "87269740",
   "metadata": {
    "scrolled": true
   },
   "outputs": [
    {
     "data": {
      "text/plain": [
       "0        False\n",
       "1        False\n",
       "2         True\n",
       "3         True\n",
       "4        False\n",
       "         ...  \n",
       "32556     True\n",
       "32557     True\n",
       "32558     True\n",
       "32559     True\n",
       "32560     True\n",
       "Name: education, Length: 32561, dtype: bool"
      ]
     },
     "execution_count": 38,
     "metadata": {},
     "output_type": "execute_result"
    }
   ],
   "source": [
    "~ df['education'].isin(['Bachelors','Masters','Doctorate'])"
   ]
  },
  {
   "cell_type": "code",
   "execution_count": 39,
   "id": "6de44839",
   "metadata": {},
   "outputs": [
    {
     "data": {
      "text/plain": [
       "age               25070\n",
       "workclass         25070\n",
       "fnlwgt            25070\n",
       "education         25070\n",
       "education-num     25070\n",
       "marital-status    25070\n",
       "occupation        25070\n",
       "relationship      25070\n",
       "race              25070\n",
       "sex               25070\n",
       "capital-gain      25070\n",
       "capital-loss      25070\n",
       "hours-per-week    25070\n",
       "native-country    25070\n",
       "salary            25070\n",
       "dtype: int64"
      ]
     },
     "execution_count": 39,
     "metadata": {},
     "output_type": "execute_result"
    }
   ],
   "source": [
    "df[~ df['education'].isin(['Bachelors','Masters','Doctorate'])].count()"
   ]
  },
  {
   "cell_type": "code",
   "execution_count": 40,
   "id": "265798e7",
   "metadata": {
    "scrolled": true
   },
   "outputs": [],
   "source": [
    "lower_education = df[~ df['education'].isin(['Bachelors','Masters','Doctorate'])]"
   ]
  },
  {
   "cell_type": "code",
   "execution_count": 41,
   "id": "99ebb48c",
   "metadata": {},
   "outputs": [
    {
     "data": {
      "text/html": [
       "<div>\n",
       "<style scoped>\n",
       "    .dataframe tbody tr th:only-of-type {\n",
       "        vertical-align: middle;\n",
       "    }\n",
       "\n",
       "    .dataframe tbody tr th {\n",
       "        vertical-align: top;\n",
       "    }\n",
       "\n",
       "    .dataframe thead th {\n",
       "        text-align: right;\n",
       "    }\n",
       "</style>\n",
       "<table border=\"1\" class=\"dataframe\">\n",
       "  <thead>\n",
       "    <tr style=\"text-align: right;\">\n",
       "      <th></th>\n",
       "      <th>age</th>\n",
       "      <th>workclass</th>\n",
       "      <th>fnlwgt</th>\n",
       "      <th>education</th>\n",
       "      <th>education-num</th>\n",
       "      <th>marital-status</th>\n",
       "      <th>occupation</th>\n",
       "      <th>relationship</th>\n",
       "      <th>race</th>\n",
       "      <th>sex</th>\n",
       "      <th>capital-gain</th>\n",
       "      <th>capital-loss</th>\n",
       "      <th>hours-per-week</th>\n",
       "      <th>native-country</th>\n",
       "      <th>salary</th>\n",
       "    </tr>\n",
       "  </thead>\n",
       "  <tbody>\n",
       "    <tr>\n",
       "      <th>2</th>\n",
       "      <td>38</td>\n",
       "      <td>Private</td>\n",
       "      <td>215646</td>\n",
       "      <td>HS-grad</td>\n",
       "      <td>9</td>\n",
       "      <td>Divorced</td>\n",
       "      <td>Handlers-cleaners</td>\n",
       "      <td>Not-in-family</td>\n",
       "      <td>White</td>\n",
       "      <td>Male</td>\n",
       "      <td>0</td>\n",
       "      <td>0</td>\n",
       "      <td>40</td>\n",
       "      <td>United-States</td>\n",
       "      <td>&lt;=50K</td>\n",
       "    </tr>\n",
       "    <tr>\n",
       "      <th>3</th>\n",
       "      <td>53</td>\n",
       "      <td>Private</td>\n",
       "      <td>234721</td>\n",
       "      <td>11th</td>\n",
       "      <td>7</td>\n",
       "      <td>Married-civ-spouse</td>\n",
       "      <td>Handlers-cleaners</td>\n",
       "      <td>Husband</td>\n",
       "      <td>Black</td>\n",
       "      <td>Male</td>\n",
       "      <td>0</td>\n",
       "      <td>0</td>\n",
       "      <td>40</td>\n",
       "      <td>United-States</td>\n",
       "      <td>&lt;=50K</td>\n",
       "    </tr>\n",
       "    <tr>\n",
       "      <th>6</th>\n",
       "      <td>49</td>\n",
       "      <td>Private</td>\n",
       "      <td>160187</td>\n",
       "      <td>9th</td>\n",
       "      <td>5</td>\n",
       "      <td>Married-spouse-absent</td>\n",
       "      <td>Other-service</td>\n",
       "      <td>Not-in-family</td>\n",
       "      <td>Black</td>\n",
       "      <td>Female</td>\n",
       "      <td>0</td>\n",
       "      <td>0</td>\n",
       "      <td>16</td>\n",
       "      <td>Jamaica</td>\n",
       "      <td>&lt;=50K</td>\n",
       "    </tr>\n",
       "    <tr>\n",
       "      <th>7</th>\n",
       "      <td>52</td>\n",
       "      <td>Self-emp-not-inc</td>\n",
       "      <td>209642</td>\n",
       "      <td>HS-grad</td>\n",
       "      <td>9</td>\n",
       "      <td>Married-civ-spouse</td>\n",
       "      <td>Exec-managerial</td>\n",
       "      <td>Husband</td>\n",
       "      <td>White</td>\n",
       "      <td>Male</td>\n",
       "      <td>0</td>\n",
       "      <td>0</td>\n",
       "      <td>45</td>\n",
       "      <td>United-States</td>\n",
       "      <td>&gt;50K</td>\n",
       "    </tr>\n",
       "    <tr>\n",
       "      <th>10</th>\n",
       "      <td>37</td>\n",
       "      <td>Private</td>\n",
       "      <td>280464</td>\n",
       "      <td>Some-college</td>\n",
       "      <td>10</td>\n",
       "      <td>Married-civ-spouse</td>\n",
       "      <td>Exec-managerial</td>\n",
       "      <td>Husband</td>\n",
       "      <td>Black</td>\n",
       "      <td>Male</td>\n",
       "      <td>0</td>\n",
       "      <td>0</td>\n",
       "      <td>80</td>\n",
       "      <td>United-States</td>\n",
       "      <td>&gt;50K</td>\n",
       "    </tr>\n",
       "    <tr>\n",
       "      <th>...</th>\n",
       "      <td>...</td>\n",
       "      <td>...</td>\n",
       "      <td>...</td>\n",
       "      <td>...</td>\n",
       "      <td>...</td>\n",
       "      <td>...</td>\n",
       "      <td>...</td>\n",
       "      <td>...</td>\n",
       "      <td>...</td>\n",
       "      <td>...</td>\n",
       "      <td>...</td>\n",
       "      <td>...</td>\n",
       "      <td>...</td>\n",
       "      <td>...</td>\n",
       "      <td>...</td>\n",
       "    </tr>\n",
       "    <tr>\n",
       "      <th>32556</th>\n",
       "      <td>27</td>\n",
       "      <td>Private</td>\n",
       "      <td>257302</td>\n",
       "      <td>Assoc-acdm</td>\n",
       "      <td>12</td>\n",
       "      <td>Married-civ-spouse</td>\n",
       "      <td>Tech-support</td>\n",
       "      <td>Wife</td>\n",
       "      <td>White</td>\n",
       "      <td>Female</td>\n",
       "      <td>0</td>\n",
       "      <td>0</td>\n",
       "      <td>38</td>\n",
       "      <td>United-States</td>\n",
       "      <td>&lt;=50K</td>\n",
       "    </tr>\n",
       "    <tr>\n",
       "      <th>32557</th>\n",
       "      <td>40</td>\n",
       "      <td>Private</td>\n",
       "      <td>154374</td>\n",
       "      <td>HS-grad</td>\n",
       "      <td>9</td>\n",
       "      <td>Married-civ-spouse</td>\n",
       "      <td>Machine-op-inspct</td>\n",
       "      <td>Husband</td>\n",
       "      <td>White</td>\n",
       "      <td>Male</td>\n",
       "      <td>0</td>\n",
       "      <td>0</td>\n",
       "      <td>40</td>\n",
       "      <td>United-States</td>\n",
       "      <td>&gt;50K</td>\n",
       "    </tr>\n",
       "    <tr>\n",
       "      <th>32558</th>\n",
       "      <td>58</td>\n",
       "      <td>Private</td>\n",
       "      <td>151910</td>\n",
       "      <td>HS-grad</td>\n",
       "      <td>9</td>\n",
       "      <td>Widowed</td>\n",
       "      <td>Adm-clerical</td>\n",
       "      <td>Unmarried</td>\n",
       "      <td>White</td>\n",
       "      <td>Female</td>\n",
       "      <td>0</td>\n",
       "      <td>0</td>\n",
       "      <td>40</td>\n",
       "      <td>United-States</td>\n",
       "      <td>&lt;=50K</td>\n",
       "    </tr>\n",
       "    <tr>\n",
       "      <th>32559</th>\n",
       "      <td>22</td>\n",
       "      <td>Private</td>\n",
       "      <td>201490</td>\n",
       "      <td>HS-grad</td>\n",
       "      <td>9</td>\n",
       "      <td>Never-married</td>\n",
       "      <td>Adm-clerical</td>\n",
       "      <td>Own-child</td>\n",
       "      <td>White</td>\n",
       "      <td>Male</td>\n",
       "      <td>0</td>\n",
       "      <td>0</td>\n",
       "      <td>20</td>\n",
       "      <td>United-States</td>\n",
       "      <td>&lt;=50K</td>\n",
       "    </tr>\n",
       "    <tr>\n",
       "      <th>32560</th>\n",
       "      <td>52</td>\n",
       "      <td>Self-emp-inc</td>\n",
       "      <td>287927</td>\n",
       "      <td>HS-grad</td>\n",
       "      <td>9</td>\n",
       "      <td>Married-civ-spouse</td>\n",
       "      <td>Exec-managerial</td>\n",
       "      <td>Wife</td>\n",
       "      <td>White</td>\n",
       "      <td>Female</td>\n",
       "      <td>15024</td>\n",
       "      <td>0</td>\n",
       "      <td>40</td>\n",
       "      <td>United-States</td>\n",
       "      <td>&gt;50K</td>\n",
       "    </tr>\n",
       "  </tbody>\n",
       "</table>\n",
       "<p>25070 rows × 15 columns</p>\n",
       "</div>"
      ],
      "text/plain": [
       "       age         workclass  fnlwgt     education  education-num  \\\n",
       "2       38           Private  215646       HS-grad              9   \n",
       "3       53           Private  234721          11th              7   \n",
       "6       49           Private  160187           9th              5   \n",
       "7       52  Self-emp-not-inc  209642       HS-grad              9   \n",
       "10      37           Private  280464  Some-college             10   \n",
       "...    ...               ...     ...           ...            ...   \n",
       "32556   27           Private  257302    Assoc-acdm             12   \n",
       "32557   40           Private  154374       HS-grad              9   \n",
       "32558   58           Private  151910       HS-grad              9   \n",
       "32559   22           Private  201490       HS-grad              9   \n",
       "32560   52      Self-emp-inc  287927       HS-grad              9   \n",
       "\n",
       "              marital-status         occupation   relationship   race     sex  \\\n",
       "2                   Divorced  Handlers-cleaners  Not-in-family  White    Male   \n",
       "3         Married-civ-spouse  Handlers-cleaners        Husband  Black    Male   \n",
       "6      Married-spouse-absent      Other-service  Not-in-family  Black  Female   \n",
       "7         Married-civ-spouse    Exec-managerial        Husband  White    Male   \n",
       "10        Married-civ-spouse    Exec-managerial        Husband  Black    Male   \n",
       "...                      ...                ...            ...    ...     ...   \n",
       "32556     Married-civ-spouse       Tech-support           Wife  White  Female   \n",
       "32557     Married-civ-spouse  Machine-op-inspct        Husband  White    Male   \n",
       "32558                Widowed       Adm-clerical      Unmarried  White  Female   \n",
       "32559          Never-married       Adm-clerical      Own-child  White    Male   \n",
       "32560     Married-civ-spouse    Exec-managerial           Wife  White  Female   \n",
       "\n",
       "       capital-gain  capital-loss  hours-per-week native-country salary  \n",
       "2                 0             0              40  United-States  <=50K  \n",
       "3                 0             0              40  United-States  <=50K  \n",
       "6                 0             0              16        Jamaica  <=50K  \n",
       "7                 0             0              45  United-States   >50K  \n",
       "10                0             0              80  United-States   >50K  \n",
       "...             ...           ...             ...            ...    ...  \n",
       "32556             0             0              38  United-States  <=50K  \n",
       "32557             0             0              40  United-States   >50K  \n",
       "32558             0             0              40  United-States  <=50K  \n",
       "32559             0             0              20  United-States  <=50K  \n",
       "32560         15024             0              40  United-States   >50K  \n",
       "\n",
       "[25070 rows x 15 columns]"
      ]
     },
     "execution_count": 41,
     "metadata": {},
     "output_type": "execute_result"
    }
   ],
   "source": [
    "lower_education"
   ]
  },
  {
   "cell_type": "code",
   "execution_count": 42,
   "id": "b3917ecb",
   "metadata": {},
   "outputs": [
    {
     "data": {
      "text/plain": [
       "2        False\n",
       "3        False\n",
       "6        False\n",
       "7         True\n",
       "10        True\n",
       "         ...  \n",
       "32556    False\n",
       "32557     True\n",
       "32558    False\n",
       "32559    False\n",
       "32560     True\n",
       "Name: salary, Length: 25070, dtype: bool"
      ]
     },
     "execution_count": 42,
     "metadata": {},
     "output_type": "execute_result"
    }
   ],
   "source": [
    "(lower_education['salary'] == '>50K')"
   ]
  },
  {
   "cell_type": "code",
   "execution_count": 43,
   "id": "6ca5b539",
   "metadata": {},
   "outputs": [
    {
     "data": {
      "text/plain": [
       "4355"
      ]
     },
     "execution_count": 43,
     "metadata": {},
     "output_type": "execute_result"
    }
   ],
   "source": [
    "lower_education[lower_education['salary'] == '>50K']['salary'].count()"
   ]
  },
  {
   "cell_type": "code",
   "execution_count": 44,
   "id": "13746170",
   "metadata": {},
   "outputs": [
    {
     "data": {
      "text/plain": [
       "25070"
      ]
     },
     "execution_count": 44,
     "metadata": {},
     "output_type": "execute_result"
    }
   ],
   "source": [
    "lower_education.shape[0]"
   ]
  },
  {
   "cell_type": "code",
   "execution_count": 45,
   "id": "de9d1af9",
   "metadata": {},
   "outputs": [
    {
     "data": {
      "text/plain": [
       "17.3713601914639"
      ]
     },
     "execution_count": 45,
     "metadata": {},
     "output_type": "execute_result"
    }
   ],
   "source": [
    "lower_education[lower_education['salary'] == '>50K']['salary'].count()/lower_education.shape[0] * 100"
   ]
  },
  {
   "cell_type": "code",
   "execution_count": 46,
   "id": "a4ec6de4",
   "metadata": {},
   "outputs": [],
   "source": [
    "lower_education_rich = round(lower_education[lower_education['salary'] == '>50K']['salary'].count()/lower_education.shape[0] * 100,1)\n"
   ]
  },
  {
   "cell_type": "code",
   "execution_count": 47,
   "id": "00503fcb",
   "metadata": {},
   "outputs": [
    {
     "data": {
      "text/plain": [
       "17.4"
      ]
     },
     "execution_count": 47,
     "metadata": {},
     "output_type": "execute_result"
    }
   ],
   "source": [
    "lower_education_rich"
   ]
  },
  {
   "cell_type": "markdown",
   "id": "999d9f6f",
   "metadata": {},
   "source": [
    "### What is the minimum number of hours a person works per week?"
   ]
  },
  {
   "cell_type": "code",
   "execution_count": 48,
   "id": "05cf843b",
   "metadata": {},
   "outputs": [
    {
     "data": {
      "text/plain": [
       "0        40\n",
       "1        13\n",
       "2        40\n",
       "3        40\n",
       "4        40\n",
       "         ..\n",
       "32556    38\n",
       "32557    40\n",
       "32558    40\n",
       "32559    20\n",
       "32560    40\n",
       "Name: hours-per-week, Length: 32561, dtype: int64"
      ]
     },
     "execution_count": 48,
     "metadata": {},
     "output_type": "execute_result"
    }
   ],
   "source": [
    "df['hours-per-week']"
   ]
  },
  {
   "cell_type": "code",
   "execution_count": 49,
   "id": "5dcd30bd",
   "metadata": {},
   "outputs": [
    {
     "data": {
      "text/plain": [
       "1"
      ]
     },
     "execution_count": 49,
     "metadata": {},
     "output_type": "execute_result"
    }
   ],
   "source": [
    "df['hours-per-week'].min()"
   ]
  },
  {
   "cell_type": "code",
   "execution_count": 50,
   "id": "f33a24b3",
   "metadata": {},
   "outputs": [
    {
     "data": {
      "text/plain": [
       "1"
      ]
     },
     "execution_count": 50,
     "metadata": {},
     "output_type": "execute_result"
    }
   ],
   "source": [
    "min_work_hours = df['hours-per-week'].min()\n",
    "min_work_hours"
   ]
  },
  {
   "cell_type": "markdown",
   "id": "6c717603",
   "metadata": {},
   "source": [
    "### What percentage of the people who work the minimum number of hours per week have a salary of more than 50K?"
   ]
  },
  {
   "cell_type": "code",
   "execution_count": 51,
   "id": "0680adb1",
   "metadata": {},
   "outputs": [
    {
     "data": {
      "text/plain": [
       "0        False\n",
       "1        False\n",
       "2        False\n",
       "3        False\n",
       "4        False\n",
       "         ...  \n",
       "32556    False\n",
       "32557    False\n",
       "32558    False\n",
       "32559    False\n",
       "32560    False\n",
       "Name: hours-per-week, Length: 32561, dtype: bool"
      ]
     },
     "execution_count": 51,
     "metadata": {},
     "output_type": "execute_result"
    }
   ],
   "source": [
    "(df['hours-per-week']== min_work_hours)"
   ]
  },
  {
   "cell_type": "code",
   "execution_count": 52,
   "id": "ac356fa2",
   "metadata": {
    "scrolled": true
   },
   "outputs": [
    {
     "data": {
      "text/plain": [
       "20"
      ]
     },
     "execution_count": 52,
     "metadata": {},
     "output_type": "execute_result"
    }
   ],
   "source": [
    "df[df['hours-per-week']== min_work_hours]['hours-per-week'].count()"
   ]
  },
  {
   "cell_type": "code",
   "execution_count": 53,
   "id": "73d0126d",
   "metadata": {},
   "outputs": [],
   "source": [
    "num_min_workers =  df[df['hours-per-week']== min_work_hours] ['hours-per-week'].count()"
   ]
  },
  {
   "cell_type": "code",
   "execution_count": 54,
   "id": "a2dff67b",
   "metadata": {},
   "outputs": [
    {
     "data": {
      "text/plain": [
       "2"
      ]
     },
     "execution_count": 54,
     "metadata": {},
     "output_type": "execute_result"
    }
   ],
   "source": [
    "df[(df['hours-per-week'] == min_work_hours) & (df['salary'] == '>50K')].shape[0]"
   ]
  },
  {
   "cell_type": "code",
   "execution_count": 55,
   "id": "5a16b580",
   "metadata": {},
   "outputs": [
    {
     "data": {
      "text/plain": [
       "0.1"
      ]
     },
     "execution_count": 55,
     "metadata": {},
     "output_type": "execute_result"
    }
   ],
   "source": [
    "df[(df['hours-per-week'] == min_work_hours) & (df['salary'] == '>50K')].shape[0]/num_min_workers"
   ]
  },
  {
   "cell_type": "code",
   "execution_count": 56,
   "id": "febb593f",
   "metadata": {},
   "outputs": [],
   "source": [
    "rich_percentage = round(df[(df['hours-per-week'] == min_work_hours) & (df['salary'] == '>50K')].shape[0] / num_min_workers * 100, 1)"
   ]
  },
  {
   "cell_type": "code",
   "execution_count": 57,
   "id": "6a7c40f9",
   "metadata": {},
   "outputs": [
    {
     "data": {
      "text/plain": [
       "10.0"
      ]
     },
     "execution_count": 57,
     "metadata": {},
     "output_type": "execute_result"
    }
   ],
   "source": [
    "rich_percentage"
   ]
  },
  {
   "cell_type": "markdown",
   "id": "8529a34c",
   "metadata": {},
   "source": [
    "### What country has the highest percentage of people that earn >50K and what is that percentage?"
   ]
  },
  {
   "cell_type": "code",
   "execution_count": 58,
   "id": "2db01bf1",
   "metadata": {
    "scrolled": true
   },
   "outputs": [
    {
     "data": {
      "text/plain": [
       "0        False\n",
       "1        False\n",
       "2        False\n",
       "3        False\n",
       "4        False\n",
       "         ...  \n",
       "32556    False\n",
       "32557    False\n",
       "32558    False\n",
       "32559    False\n",
       "32560    False\n",
       "Name: salary, Length: 32561, dtype: bool"
      ]
     },
     "execution_count": 58,
     "metadata": {},
     "output_type": "execute_result"
    }
   ],
   "source": [
    "df['salary'] == '>50k'"
   ]
  },
  {
   "cell_type": "code",
   "execution_count": 59,
   "id": "99590af1",
   "metadata": {},
   "outputs": [
    {
     "data": {
      "text/plain": [
       "United-States                 29170\n",
       "Mexico                          643\n",
       "?                               583\n",
       "Philippines                     198\n",
       "Germany                         137\n",
       "Canada                          121\n",
       "Puerto-Rico                     114\n",
       "El-Salvador                     106\n",
       "India                           100\n",
       "Cuba                             95\n",
       "England                          90\n",
       "Jamaica                          81\n",
       "South                            80\n",
       "China                            75\n",
       "Italy                            73\n",
       "Dominican-Republic               70\n",
       "Vietnam                          67\n",
       "Guatemala                        64\n",
       "Japan                            62\n",
       "Poland                           60\n",
       "Columbia                         59\n",
       "Taiwan                           51\n",
       "Haiti                            44\n",
       "Iran                             43\n",
       "Portugal                         37\n",
       "Nicaragua                        34\n",
       "Peru                             31\n",
       "France                           29\n",
       "Greece                           29\n",
       "Ecuador                          28\n",
       "Ireland                          24\n",
       "Hong                             20\n",
       "Cambodia                         19\n",
       "Trinadad&Tobago                  19\n",
       "Laos                             18\n",
       "Thailand                         18\n",
       "Yugoslavia                       16\n",
       "Outlying-US(Guam-USVI-etc)       14\n",
       "Honduras                         13\n",
       "Hungary                          13\n",
       "Scotland                         12\n",
       "Holand-Netherlands                1\n",
       "Name: native-country, dtype: int64"
      ]
     },
     "execution_count": 59,
     "metadata": {},
     "output_type": "execute_result"
    }
   ],
   "source": [
    "df['native-country'].value_counts()"
   ]
  },
  {
   "cell_type": "code",
   "execution_count": 60,
   "id": "91037397",
   "metadata": {
    "scrolled": false
   },
   "outputs": [
    {
     "data": {
      "text/plain": [
       "United-States         7171\n",
       "?                      146\n",
       "Philippines             61\n",
       "Germany                 44\n",
       "India                   40\n",
       "Canada                  39\n",
       "Mexico                  33\n",
       "England                 30\n",
       "Italy                   25\n",
       "Cuba                    25\n",
       "Japan                   24\n",
       "Taiwan                  20\n",
       "China                   20\n",
       "Iran                    18\n",
       "South                   16\n",
       "Puerto-Rico             12\n",
       "Poland                  12\n",
       "France                  12\n",
       "Jamaica                 10\n",
       "El-Salvador              9\n",
       "Greece                   8\n",
       "Cambodia                 7\n",
       "Hong                     6\n",
       "Yugoslavia               6\n",
       "Ireland                  5\n",
       "Vietnam                  5\n",
       "Portugal                 4\n",
       "Haiti                    4\n",
       "Ecuador                  4\n",
       "Thailand                 3\n",
       "Hungary                  3\n",
       "Guatemala                3\n",
       "Scotland                 3\n",
       "Nicaragua                2\n",
       "Trinadad&Tobago          2\n",
       "Laos                     2\n",
       "Columbia                 2\n",
       "Dominican-Republic       2\n",
       "Peru                     2\n",
       "Honduras                 1\n",
       "Name: native-country, dtype: int64"
      ]
     },
     "execution_count": 60,
     "metadata": {},
     "output_type": "execute_result"
    }
   ],
   "source": [
    "df[df['salary'] == '>50K']['native-country'].value_counts()"
   ]
  },
  {
   "cell_type": "code",
   "execution_count": 61,
   "id": "1ecfb14a",
   "metadata": {
    "scrolled": false
   },
   "outputs": [
    {
     "data": {
      "text/plain": [
       "United-States         7171\n",
       "?                      146\n",
       "Philippines             61\n",
       "Germany                 44\n",
       "India                   40\n",
       "Canada                  39\n",
       "Mexico                  33\n",
       "England                 30\n",
       "Italy                   25\n",
       "Cuba                    25\n",
       "Japan                   24\n",
       "Taiwan                  20\n",
       "China                   20\n",
       "Iran                    18\n",
       "South                   16\n",
       "Puerto-Rico             12\n",
       "Poland                  12\n",
       "France                  12\n",
       "Jamaica                 10\n",
       "El-Salvador              9\n",
       "Greece                   8\n",
       "Cambodia                 7\n",
       "Hong                     6\n",
       "Yugoslavia               6\n",
       "Ireland                  5\n",
       "Vietnam                  5\n",
       "Portugal                 4\n",
       "Haiti                    4\n",
       "Ecuador                  4\n",
       "Thailand                 3\n",
       "Hungary                  3\n",
       "Guatemala                3\n",
       "Scotland                 3\n",
       "Nicaragua                2\n",
       "Trinadad&Tobago          2\n",
       "Laos                     2\n",
       "Columbia                 2\n",
       "Dominican-Republic       2\n",
       "Peru                     2\n",
       "Honduras                 1\n",
       "Name: native-country, dtype: int64"
      ]
     },
     "execution_count": 61,
     "metadata": {},
     "output_type": "execute_result"
    }
   ],
   "source": [
    "df.loc[df['salary'] == '>50K','native-country'].value_counts()"
   ]
  },
  {
   "cell_type": "code",
   "execution_count": 62,
   "id": "ac55d03c",
   "metadata": {
    "scrolled": false
   },
   "outputs": [
    {
     "data": {
      "text/plain": [
       "?                             25.042882\n",
       "Cambodia                      36.842105\n",
       "Canada                        32.231405\n",
       "China                         26.666667\n",
       "Columbia                       3.389831\n",
       "Cuba                          26.315789\n",
       "Dominican-Republic             2.857143\n",
       "Ecuador                       14.285714\n",
       "El-Salvador                    8.490566\n",
       "England                       33.333333\n",
       "France                        41.379310\n",
       "Germany                       32.116788\n",
       "Greece                        27.586207\n",
       "Guatemala                      4.687500\n",
       "Haiti                          9.090909\n",
       "Holand-Netherlands                  NaN\n",
       "Honduras                       7.692308\n",
       "Hong                          30.000000\n",
       "Hungary                       23.076923\n",
       "India                         40.000000\n",
       "Iran                          41.860465\n",
       "Ireland                       20.833333\n",
       "Italy                         34.246575\n",
       "Jamaica                       12.345679\n",
       "Japan                         38.709677\n",
       "Laos                          11.111111\n",
       "Mexico                         5.132193\n",
       "Nicaragua                      5.882353\n",
       "Outlying-US(Guam-USVI-etc)          NaN\n",
       "Peru                           6.451613\n",
       "Philippines                   30.808081\n",
       "Poland                        20.000000\n",
       "Portugal                      10.810811\n",
       "Puerto-Rico                   10.526316\n",
       "Scotland                      25.000000\n",
       "South                         20.000000\n",
       "Taiwan                        39.215686\n",
       "Thailand                      16.666667\n",
       "Trinadad&Tobago               10.526316\n",
       "United-States                 24.583476\n",
       "Vietnam                        7.462687\n",
       "Yugoslavia                    37.500000\n",
       "Name: native-country, dtype: float64"
      ]
     },
     "execution_count": 62,
     "metadata": {},
     "output_type": "execute_result"
    }
   ],
   "source": [
    "df.loc[df['salary'] == '>50K','native-country'].value_counts()/df['native-country'].value_counts() * 100"
   ]
  },
  {
   "cell_type": "code",
   "execution_count": 63,
   "id": "f7b2ef64",
   "metadata": {},
   "outputs": [
    {
     "data": {
      "text/plain": [
       "Iran                          41.860465\n",
       "France                        41.379310\n",
       "India                         40.000000\n",
       "Taiwan                        39.215686\n",
       "Japan                         38.709677\n",
       "Yugoslavia                    37.500000\n",
       "Cambodia                      36.842105\n",
       "Italy                         34.246575\n",
       "England                       33.333333\n",
       "Canada                        32.231405\n",
       "Germany                       32.116788\n",
       "Philippines                   30.808081\n",
       "Hong                          30.000000\n",
       "Greece                        27.586207\n",
       "China                         26.666667\n",
       "Cuba                          26.315789\n",
       "?                             25.042882\n",
       "Scotland                      25.000000\n",
       "United-States                 24.583476\n",
       "Hungary                       23.076923\n",
       "Ireland                       20.833333\n",
       "South                         20.000000\n",
       "Poland                        20.000000\n",
       "Thailand                      16.666667\n",
       "Ecuador                       14.285714\n",
       "Jamaica                       12.345679\n",
       "Laos                          11.111111\n",
       "Portugal                      10.810811\n",
       "Puerto-Rico                   10.526316\n",
       "Trinadad&Tobago               10.526316\n",
       "Haiti                          9.090909\n",
       "El-Salvador                    8.490566\n",
       "Honduras                       7.692308\n",
       "Vietnam                        7.462687\n",
       "Peru                           6.451613\n",
       "Nicaragua                      5.882353\n",
       "Mexico                         5.132193\n",
       "Guatemala                      4.687500\n",
       "Columbia                       3.389831\n",
       "Dominican-Republic             2.857143\n",
       "Holand-Netherlands                  NaN\n",
       "Outlying-US(Guam-USVI-etc)          NaN\n",
       "Name: native-country, dtype: float64"
      ]
     },
     "execution_count": 63,
     "metadata": {},
     "output_type": "execute_result"
    }
   ],
   "source": [
    "(df.loc[df['salary'] == '>50K','native-country'].value_counts()/df['native-country'].value_counts() * 100).sort_values(ascending = False)"
   ]
  },
  {
   "cell_type": "code",
   "execution_count": 64,
   "id": "66769944",
   "metadata": {},
   "outputs": [
    {
     "data": {
      "text/plain": [
       "'Iran'"
      ]
     },
     "execution_count": 64,
     "metadata": {},
     "output_type": "execute_result"
    }
   ],
   "source": [
    " (df.loc[df['salary'] == '>50K','native-country'].value_counts()/ df['native-country'].value_counts() * 100).sort_values(ascending=False).idxmax()"
   ]
  },
  {
   "cell_type": "code",
   "execution_count": 65,
   "id": "1b3efa8d",
   "metadata": {},
   "outputs": [],
   "source": [
    "highest_earning_country = (df.loc[df['salary'] == '>50K','native-country'].value_counts()/ df['native-country'].value_counts() * 100).sort_values(ascending=False).idxmax()"
   ]
  },
  {
   "cell_type": "code",
   "execution_count": 66,
   "id": "edab4375",
   "metadata": {
    "scrolled": true
   },
   "outputs": [
    {
     "data": {
      "text/plain": [
       "'Iran'"
      ]
     },
     "execution_count": 66,
     "metadata": {},
     "output_type": "execute_result"
    }
   ],
   "source": [
    "highest_earning_country"
   ]
  },
  {
   "cell_type": "markdown",
   "id": "7e52cc3f",
   "metadata": {},
   "source": [
    "##### \"IRAN\" HAS has the highest percentage of people that earn >50K"
   ]
  },
  {
   "cell_type": "code",
   "execution_count": 67,
   "id": "453747ca",
   "metadata": {},
   "outputs": [
    {
     "data": {
      "text/html": [
       "<div>\n",
       "<style scoped>\n",
       "    .dataframe tbody tr th:only-of-type {\n",
       "        vertical-align: middle;\n",
       "    }\n",
       "\n",
       "    .dataframe tbody tr th {\n",
       "        vertical-align: top;\n",
       "    }\n",
       "\n",
       "    .dataframe thead th {\n",
       "        text-align: right;\n",
       "    }\n",
       "</style>\n",
       "<table border=\"1\" class=\"dataframe\">\n",
       "  <thead>\n",
       "    <tr style=\"text-align: right;\">\n",
       "      <th></th>\n",
       "      <th>age</th>\n",
       "      <th>workclass</th>\n",
       "      <th>fnlwgt</th>\n",
       "      <th>education</th>\n",
       "      <th>education-num</th>\n",
       "      <th>marital-status</th>\n",
       "      <th>occupation</th>\n",
       "      <th>relationship</th>\n",
       "      <th>race</th>\n",
       "      <th>sex</th>\n",
       "      <th>capital-gain</th>\n",
       "      <th>capital-loss</th>\n",
       "      <th>hours-per-week</th>\n",
       "      <th>native-country</th>\n",
       "      <th>salary</th>\n",
       "    </tr>\n",
       "  </thead>\n",
       "  <tbody>\n",
       "    <tr>\n",
       "      <th>135</th>\n",
       "      <td>38</td>\n",
       "      <td>Federal-gov</td>\n",
       "      <td>125933</td>\n",
       "      <td>Masters</td>\n",
       "      <td>14</td>\n",
       "      <td>Married-civ-spouse</td>\n",
       "      <td>Prof-specialty</td>\n",
       "      <td>Husband</td>\n",
       "      <td>White</td>\n",
       "      <td>Male</td>\n",
       "      <td>0</td>\n",
       "      <td>0</td>\n",
       "      <td>40</td>\n",
       "      <td>Iran</td>\n",
       "      <td>&gt;50K</td>\n",
       "    </tr>\n",
       "    <tr>\n",
       "      <th>237</th>\n",
       "      <td>41</td>\n",
       "      <td>Private</td>\n",
       "      <td>180138</td>\n",
       "      <td>Bachelors</td>\n",
       "      <td>13</td>\n",
       "      <td>Married-civ-spouse</td>\n",
       "      <td>Exec-managerial</td>\n",
       "      <td>Husband</td>\n",
       "      <td>White</td>\n",
       "      <td>Male</td>\n",
       "      <td>0</td>\n",
       "      <td>0</td>\n",
       "      <td>50</td>\n",
       "      <td>Iran</td>\n",
       "      <td>&gt;50K</td>\n",
       "    </tr>\n",
       "    <tr>\n",
       "      <th>1387</th>\n",
       "      <td>40</td>\n",
       "      <td>Self-emp-not-inc</td>\n",
       "      <td>266324</td>\n",
       "      <td>Some-college</td>\n",
       "      <td>10</td>\n",
       "      <td>Divorced</td>\n",
       "      <td>Exec-managerial</td>\n",
       "      <td>Other-relative</td>\n",
       "      <td>White</td>\n",
       "      <td>Male</td>\n",
       "      <td>0</td>\n",
       "      <td>1564</td>\n",
       "      <td>70</td>\n",
       "      <td>Iran</td>\n",
       "      <td>&gt;50K</td>\n",
       "    </tr>\n",
       "    <tr>\n",
       "      <th>2652</th>\n",
       "      <td>34</td>\n",
       "      <td>Private</td>\n",
       "      <td>213226</td>\n",
       "      <td>Bachelors</td>\n",
       "      <td>13</td>\n",
       "      <td>Married-civ-spouse</td>\n",
       "      <td>Prof-specialty</td>\n",
       "      <td>Husband</td>\n",
       "      <td>White</td>\n",
       "      <td>Male</td>\n",
       "      <td>0</td>\n",
       "      <td>0</td>\n",
       "      <td>40</td>\n",
       "      <td>Iran</td>\n",
       "      <td>&gt;50K</td>\n",
       "    </tr>\n",
       "    <tr>\n",
       "      <th>3389</th>\n",
       "      <td>51</td>\n",
       "      <td>Private</td>\n",
       "      <td>293196</td>\n",
       "      <td>Doctorate</td>\n",
       "      <td>16</td>\n",
       "      <td>Married-civ-spouse</td>\n",
       "      <td>Prof-specialty</td>\n",
       "      <td>Husband</td>\n",
       "      <td>White</td>\n",
       "      <td>Male</td>\n",
       "      <td>15024</td>\n",
       "      <td>0</td>\n",
       "      <td>60</td>\n",
       "      <td>Iran</td>\n",
       "      <td>&gt;50K</td>\n",
       "    </tr>\n",
       "    <tr>\n",
       "      <th>3390</th>\n",
       "      <td>45</td>\n",
       "      <td>Private</td>\n",
       "      <td>214627</td>\n",
       "      <td>Doctorate</td>\n",
       "      <td>16</td>\n",
       "      <td>Widowed</td>\n",
       "      <td>Prof-specialty</td>\n",
       "      <td>Unmarried</td>\n",
       "      <td>White</td>\n",
       "      <td>Male</td>\n",
       "      <td>15020</td>\n",
       "      <td>0</td>\n",
       "      <td>40</td>\n",
       "      <td>Iran</td>\n",
       "      <td>&gt;50K</td>\n",
       "    </tr>\n",
       "    <tr>\n",
       "      <th>4145</th>\n",
       "      <td>36</td>\n",
       "      <td>Private</td>\n",
       "      <td>95654</td>\n",
       "      <td>Bachelors</td>\n",
       "      <td>13</td>\n",
       "      <td>Married-civ-spouse</td>\n",
       "      <td>Prof-specialty</td>\n",
       "      <td>Wife</td>\n",
       "      <td>White</td>\n",
       "      <td>Female</td>\n",
       "      <td>0</td>\n",
       "      <td>0</td>\n",
       "      <td>50</td>\n",
       "      <td>Iran</td>\n",
       "      <td>&gt;50K</td>\n",
       "    </tr>\n",
       "    <tr>\n",
       "      <th>4433</th>\n",
       "      <td>52</td>\n",
       "      <td>State-gov</td>\n",
       "      <td>149650</td>\n",
       "      <td>Doctorate</td>\n",
       "      <td>16</td>\n",
       "      <td>Married-civ-spouse</td>\n",
       "      <td>Prof-specialty</td>\n",
       "      <td>Husband</td>\n",
       "      <td>White</td>\n",
       "      <td>Male</td>\n",
       "      <td>0</td>\n",
       "      <td>0</td>\n",
       "      <td>40</td>\n",
       "      <td>Iran</td>\n",
       "      <td>&gt;50K</td>\n",
       "    </tr>\n",
       "    <tr>\n",
       "      <th>6295</th>\n",
       "      <td>40</td>\n",
       "      <td>Self-emp-inc</td>\n",
       "      <td>157240</td>\n",
       "      <td>Masters</td>\n",
       "      <td>14</td>\n",
       "      <td>Married-civ-spouse</td>\n",
       "      <td>Exec-managerial</td>\n",
       "      <td>Wife</td>\n",
       "      <td>White</td>\n",
       "      <td>Female</td>\n",
       "      <td>15024</td>\n",
       "      <td>0</td>\n",
       "      <td>30</td>\n",
       "      <td>Iran</td>\n",
       "      <td>&gt;50K</td>\n",
       "    </tr>\n",
       "    <tr>\n",
       "      <th>9826</th>\n",
       "      <td>33</td>\n",
       "      <td>Private</td>\n",
       "      <td>181091</td>\n",
       "      <td>Bachelors</td>\n",
       "      <td>13</td>\n",
       "      <td>Married-civ-spouse</td>\n",
       "      <td>Adm-clerical</td>\n",
       "      <td>Husband</td>\n",
       "      <td>White</td>\n",
       "      <td>Male</td>\n",
       "      <td>0</td>\n",
       "      <td>0</td>\n",
       "      <td>60</td>\n",
       "      <td>Iran</td>\n",
       "      <td>&gt;50K</td>\n",
       "    </tr>\n",
       "    <tr>\n",
       "      <th>9945</th>\n",
       "      <td>63</td>\n",
       "      <td>Private</td>\n",
       "      <td>213945</td>\n",
       "      <td>Bachelors</td>\n",
       "      <td>13</td>\n",
       "      <td>Married-civ-spouse</td>\n",
       "      <td>Sales</td>\n",
       "      <td>Husband</td>\n",
       "      <td>White</td>\n",
       "      <td>Male</td>\n",
       "      <td>15024</td>\n",
       "      <td>0</td>\n",
       "      <td>40</td>\n",
       "      <td>Iran</td>\n",
       "      <td>&gt;50K</td>\n",
       "    </tr>\n",
       "    <tr>\n",
       "      <th>13961</th>\n",
       "      <td>35</td>\n",
       "      <td>Private</td>\n",
       "      <td>202950</td>\n",
       "      <td>HS-grad</td>\n",
       "      <td>9</td>\n",
       "      <td>Married-civ-spouse</td>\n",
       "      <td>Exec-managerial</td>\n",
       "      <td>Husband</td>\n",
       "      <td>White</td>\n",
       "      <td>Male</td>\n",
       "      <td>0</td>\n",
       "      <td>0</td>\n",
       "      <td>55</td>\n",
       "      <td>Iran</td>\n",
       "      <td>&gt;50K</td>\n",
       "    </tr>\n",
       "    <tr>\n",
       "      <th>20243</th>\n",
       "      <td>37</td>\n",
       "      <td>Private</td>\n",
       "      <td>109133</td>\n",
       "      <td>Masters</td>\n",
       "      <td>14</td>\n",
       "      <td>Separated</td>\n",
       "      <td>Exec-managerial</td>\n",
       "      <td>Not-in-family</td>\n",
       "      <td>White</td>\n",
       "      <td>Male</td>\n",
       "      <td>27828</td>\n",
       "      <td>0</td>\n",
       "      <td>60</td>\n",
       "      <td>Iran</td>\n",
       "      <td>&gt;50K</td>\n",
       "    </tr>\n",
       "    <tr>\n",
       "      <th>25172</th>\n",
       "      <td>47</td>\n",
       "      <td>Self-emp-not-inc</td>\n",
       "      <td>190072</td>\n",
       "      <td>Some-college</td>\n",
       "      <td>10</td>\n",
       "      <td>Married-civ-spouse</td>\n",
       "      <td>Craft-repair</td>\n",
       "      <td>Husband</td>\n",
       "      <td>White</td>\n",
       "      <td>Male</td>\n",
       "      <td>0</td>\n",
       "      <td>0</td>\n",
       "      <td>40</td>\n",
       "      <td>Iran</td>\n",
       "      <td>&gt;50K</td>\n",
       "    </tr>\n",
       "    <tr>\n",
       "      <th>25646</th>\n",
       "      <td>36</td>\n",
       "      <td>Private</td>\n",
       "      <td>52327</td>\n",
       "      <td>Masters</td>\n",
       "      <td>14</td>\n",
       "      <td>Married-civ-spouse</td>\n",
       "      <td>Prof-specialty</td>\n",
       "      <td>Husband</td>\n",
       "      <td>Other</td>\n",
       "      <td>Male</td>\n",
       "      <td>0</td>\n",
       "      <td>0</td>\n",
       "      <td>40</td>\n",
       "      <td>Iran</td>\n",
       "      <td>&gt;50K</td>\n",
       "    </tr>\n",
       "    <tr>\n",
       "      <th>26545</th>\n",
       "      <td>32</td>\n",
       "      <td>Self-emp-inc</td>\n",
       "      <td>124919</td>\n",
       "      <td>Bachelors</td>\n",
       "      <td>13</td>\n",
       "      <td>Married-civ-spouse</td>\n",
       "      <td>Other-service</td>\n",
       "      <td>Husband</td>\n",
       "      <td>Asian-Pac-Islander</td>\n",
       "      <td>Male</td>\n",
       "      <td>0</td>\n",
       "      <td>0</td>\n",
       "      <td>50</td>\n",
       "      <td>Iran</td>\n",
       "      <td>&gt;50K</td>\n",
       "    </tr>\n",
       "    <tr>\n",
       "      <th>26570</th>\n",
       "      <td>47</td>\n",
       "      <td>Private</td>\n",
       "      <td>192793</td>\n",
       "      <td>Doctorate</td>\n",
       "      <td>16</td>\n",
       "      <td>Married-civ-spouse</td>\n",
       "      <td>Prof-specialty</td>\n",
       "      <td>Husband</td>\n",
       "      <td>White</td>\n",
       "      <td>Male</td>\n",
       "      <td>0</td>\n",
       "      <td>0</td>\n",
       "      <td>40</td>\n",
       "      <td>Iran</td>\n",
       "      <td>&gt;50K</td>\n",
       "    </tr>\n",
       "    <tr>\n",
       "      <th>31003</th>\n",
       "      <td>35</td>\n",
       "      <td>Private</td>\n",
       "      <td>267866</td>\n",
       "      <td>HS-grad</td>\n",
       "      <td>9</td>\n",
       "      <td>Married-civ-spouse</td>\n",
       "      <td>Sales</td>\n",
       "      <td>Husband</td>\n",
       "      <td>Asian-Pac-Islander</td>\n",
       "      <td>Male</td>\n",
       "      <td>0</td>\n",
       "      <td>1887</td>\n",
       "      <td>50</td>\n",
       "      <td>Iran</td>\n",
       "      <td>&gt;50K</td>\n",
       "    </tr>\n",
       "  </tbody>\n",
       "</table>\n",
       "</div>"
      ],
      "text/plain": [
       "       age         workclass  fnlwgt     education  education-num  \\\n",
       "135     38       Federal-gov  125933       Masters             14   \n",
       "237     41           Private  180138     Bachelors             13   \n",
       "1387    40  Self-emp-not-inc  266324  Some-college             10   \n",
       "2652    34           Private  213226     Bachelors             13   \n",
       "3389    51           Private  293196     Doctorate             16   \n",
       "3390    45           Private  214627     Doctorate             16   \n",
       "4145    36           Private   95654     Bachelors             13   \n",
       "4433    52         State-gov  149650     Doctorate             16   \n",
       "6295    40      Self-emp-inc  157240       Masters             14   \n",
       "9826    33           Private  181091     Bachelors             13   \n",
       "9945    63           Private  213945     Bachelors             13   \n",
       "13961   35           Private  202950       HS-grad              9   \n",
       "20243   37           Private  109133       Masters             14   \n",
       "25172   47  Self-emp-not-inc  190072  Some-college             10   \n",
       "25646   36           Private   52327       Masters             14   \n",
       "26545   32      Self-emp-inc  124919     Bachelors             13   \n",
       "26570   47           Private  192793     Doctorate             16   \n",
       "31003   35           Private  267866       HS-grad              9   \n",
       "\n",
       "           marital-status       occupation    relationship  \\\n",
       "135    Married-civ-spouse   Prof-specialty         Husband   \n",
       "237    Married-civ-spouse  Exec-managerial         Husband   \n",
       "1387             Divorced  Exec-managerial  Other-relative   \n",
       "2652   Married-civ-spouse   Prof-specialty         Husband   \n",
       "3389   Married-civ-spouse   Prof-specialty         Husband   \n",
       "3390              Widowed   Prof-specialty       Unmarried   \n",
       "4145   Married-civ-spouse   Prof-specialty            Wife   \n",
       "4433   Married-civ-spouse   Prof-specialty         Husband   \n",
       "6295   Married-civ-spouse  Exec-managerial            Wife   \n",
       "9826   Married-civ-spouse     Adm-clerical         Husband   \n",
       "9945   Married-civ-spouse            Sales         Husband   \n",
       "13961  Married-civ-spouse  Exec-managerial         Husband   \n",
       "20243           Separated  Exec-managerial   Not-in-family   \n",
       "25172  Married-civ-spouse     Craft-repair         Husband   \n",
       "25646  Married-civ-spouse   Prof-specialty         Husband   \n",
       "26545  Married-civ-spouse    Other-service         Husband   \n",
       "26570  Married-civ-spouse   Prof-specialty         Husband   \n",
       "31003  Married-civ-spouse            Sales         Husband   \n",
       "\n",
       "                     race     sex  capital-gain  capital-loss  hours-per-week  \\\n",
       "135                 White    Male             0             0              40   \n",
       "237                 White    Male             0             0              50   \n",
       "1387                White    Male             0          1564              70   \n",
       "2652                White    Male             0             0              40   \n",
       "3389                White    Male         15024             0              60   \n",
       "3390                White    Male         15020             0              40   \n",
       "4145                White  Female             0             0              50   \n",
       "4433                White    Male             0             0              40   \n",
       "6295                White  Female         15024             0              30   \n",
       "9826                White    Male             0             0              60   \n",
       "9945                White    Male         15024             0              40   \n",
       "13961               White    Male             0             0              55   \n",
       "20243               White    Male         27828             0              60   \n",
       "25172               White    Male             0             0              40   \n",
       "25646               Other    Male             0             0              40   \n",
       "26545  Asian-Pac-Islander    Male             0             0              50   \n",
       "26570               White    Male             0             0              40   \n",
       "31003  Asian-Pac-Islander    Male             0          1887              50   \n",
       "\n",
       "      native-country salary  \n",
       "135             Iran   >50K  \n",
       "237             Iran   >50K  \n",
       "1387            Iran   >50K  \n",
       "2652            Iran   >50K  \n",
       "3389            Iran   >50K  \n",
       "3390            Iran   >50K  \n",
       "4145            Iran   >50K  \n",
       "4433            Iran   >50K  \n",
       "6295            Iran   >50K  \n",
       "9826            Iran   >50K  \n",
       "9945            Iran   >50K  \n",
       "13961           Iran   >50K  \n",
       "20243           Iran   >50K  \n",
       "25172           Iran   >50K  \n",
       "25646           Iran   >50K  \n",
       "26545           Iran   >50K  \n",
       "26570           Iran   >50K  \n",
       "31003           Iran   >50K  "
      ]
     },
     "execution_count": 67,
     "metadata": {},
     "output_type": "execute_result"
    }
   ],
   "source": [
    "df[(df['salary'] == '>50K') & (df['native-country'] == 'Iran')]"
   ]
  },
  {
   "cell_type": "code",
   "execution_count": 68,
   "id": "5a70d8ef",
   "metadata": {
    "scrolled": true
   },
   "outputs": [
    {
     "data": {
      "text/plain": [
       "age               18\n",
       "workclass         18\n",
       "fnlwgt            18\n",
       "education         18\n",
       "education-num     18\n",
       "marital-status    18\n",
       "occupation        18\n",
       "relationship      18\n",
       "race              18\n",
       "sex               18\n",
       "capital-gain      18\n",
       "capital-loss      18\n",
       "hours-per-week    18\n",
       "native-country    18\n",
       "salary            18\n",
       "dtype: int64"
      ]
     },
     "execution_count": 68,
     "metadata": {},
     "output_type": "execute_result"
    }
   ],
   "source": [
    "df[(df['salary'] == '>50K') & (df['native-country'] == 'Iran')].count()"
   ]
  },
  {
   "cell_type": "code",
   "execution_count": 69,
   "id": "8faaf8bc",
   "metadata": {
    "scrolled": true
   },
   "outputs": [
    {
     "data": {
      "text/plain": [
       "18"
      ]
     },
     "execution_count": 69,
     "metadata": {},
     "output_type": "execute_result"
    }
   ],
   "source": [
    "df[(df['salary'] == '>50K') & (df['native-country'] == 'Iran')]['native-country'].count()"
   ]
  },
  {
   "cell_type": "code",
   "execution_count": 70,
   "id": "37418d62",
   "metadata": {},
   "outputs": [
    {
     "data": {
      "text/plain": [
       "43"
      ]
     },
     "execution_count": 70,
     "metadata": {},
     "output_type": "execute_result"
    }
   ],
   "source": [
    "df[df['native-country'] == \"Iran\"]['native-country'].count()"
   ]
  },
  {
   "cell_type": "code",
   "execution_count": 71,
   "id": "3b0ecc1b",
   "metadata": {},
   "outputs": [
    {
     "data": {
      "text/plain": [
       "41.86046511627907"
      ]
     },
     "execution_count": 71,
     "metadata": {},
     "output_type": "execute_result"
    }
   ],
   "source": [
    "df[(df['salary'] == '>50K') & (df['native-country'] == 'Iran')]['native-country'].count()/df[df['native-country'] == \"Iran\"]['native-country'].count() * 100"
   ]
  },
  {
   "cell_type": "code",
   "execution_count": 72,
   "id": "8febd511",
   "metadata": {},
   "outputs": [],
   "source": [
    "highest_earning_country_percentage = round(df[(df['salary'] == '>50K') & (df['native-country'] == highest_earning_country)]['native-country'].count() / (df[df['native-country'] == highest_earning_country]['native-country']).count() * 100,1)"
   ]
  },
  {
   "cell_type": "code",
   "execution_count": 73,
   "id": "4d2812bc",
   "metadata": {},
   "outputs": [
    {
     "data": {
      "text/plain": [
       "41.9"
      ]
     },
     "execution_count": 73,
     "metadata": {},
     "output_type": "execute_result"
    }
   ],
   "source": [
    "highest_earning_country_percentage"
   ]
  },
  {
   "cell_type": "markdown",
   "id": "83a5732d",
   "metadata": {},
   "source": [
    "### Identify the most popular occupation for those who earn >50K in India."
   ]
  },
  {
   "cell_type": "code",
   "execution_count": 74,
   "id": "66bcb5c5",
   "metadata": {},
   "outputs": [
    {
     "data": {
      "text/plain": [
       "11        Prof-specialty\n",
       "892         Adm-clerical\n",
       "968      Exec-managerial\n",
       "1029               Sales\n",
       "1095      Prof-specialty\n",
       "              ...       \n",
       "30152     Prof-specialty\n",
       "30833       Adm-clerical\n",
       "30871     Prof-specialty\n",
       "31327     Prof-specialty\n",
       "31357     Prof-specialty\n",
       "Name: occupation, Length: 100, dtype: object"
      ]
     },
     "execution_count": 74,
     "metadata": {},
     "output_type": "execute_result"
    }
   ],
   "source": [
    "df[df['native-country'] == 'India']['occupation']"
   ]
  },
  {
   "cell_type": "code",
   "execution_count": 75,
   "id": "fe741b5b",
   "metadata": {
    "scrolled": true
   },
   "outputs": [
    {
     "data": {
      "text/plain": [
       "Transport-moving     1\n",
       "Sales                1\n",
       "Adm-clerical         1\n",
       "Other-service        2\n",
       "Tech-support         2\n",
       "Exec-managerial      8\n",
       "Prof-specialty      25\n",
       "Name: occupation, dtype: int64"
      ]
     },
     "execution_count": 75,
     "metadata": {},
     "output_type": "execute_result"
    }
   ],
   "source": [
    "df[(df['salary'] == '>50K') & (df['native-country'] == 'India')]['occupation'].value_counts().sort_values()"
   ]
  },
  {
   "cell_type": "code",
   "execution_count": 76,
   "id": "d2933072",
   "metadata": {
    "scrolled": false
   },
   "outputs": [
    {
     "data": {
      "text/plain": [
       "Prof-specialty      25\n",
       "Exec-managerial      8\n",
       "Other-service        2\n",
       "Tech-support         2\n",
       "Transport-moving     1\n",
       "Sales                1\n",
       "Adm-clerical         1\n",
       "Name: occupation, dtype: int64"
      ]
     },
     "execution_count": 76,
     "metadata": {},
     "output_type": "execute_result"
    }
   ],
   "source": [
    "df.loc[(df['salary'] == '>50K') & (df['native-country'] == 'India'),'occupation'].value_counts().sort_values(ascending = False)"
   ]
  },
  {
   "cell_type": "code",
   "execution_count": 77,
   "id": "4a26ee65",
   "metadata": {},
   "outputs": [],
   "source": [
    "top_IN_occupation = df.loc[(df['salary'] == '>50K') & (df['native-country'] == 'India'),'occupation'].value_counts().sort_values(ascending = False).idxmax()"
   ]
  },
  {
   "cell_type": "code",
   "execution_count": 78,
   "id": "555f8ffc",
   "metadata": {
    "scrolled": true
   },
   "outputs": [
    {
     "data": {
      "text/plain": [
       "'Prof-specialty'"
      ]
     },
     "execution_count": 78,
     "metadata": {},
     "output_type": "execute_result"
    }
   ],
   "source": [
    "top_IN_occupation"
   ]
  },
  {
   "cell_type": "markdown",
   "id": "7720ab45",
   "metadata": {},
   "source": [
    "## Summary"
   ]
  },
  {
   "cell_type": "code",
   "execution_count": 79,
   "id": "1bb10d77",
   "metadata": {},
   "outputs": [],
   "source": [
    "race_count = df['race'].value_counts()\n",
    "\n",
    "average_age_men = round(df.loc[df['sex'] == 'Male', 'age'].mean(),1)\n",
    "\n",
    "percentage_bachelors = round((df[df['education'] == 'Bachelors']['education'].count() / df.shape[0])* 100, 1)\n",
    "\n",
    "higher_education = df[df['education'].isin(['Bachelors','Masters','Doctorate'])]\n",
    "\n",
    "higher_education_rich = round(higher_education[higher_education['salary'] == '>50K']['salary'].count() / higher_education.shape[0] * 100, 1)\n",
    "\n",
    "lower_education = df[~ df['education'].isin(['Bachelors','Masters','Doctorate'])]\n",
    "\n",
    "lower_education_rich = round(lower_education[lower_education['salary'] == '>50K']['salary'].count()/lower_education.shape[0] * 100,1)\n",
    "\n",
    "min_work_hours = df['hours-per-week'].min()\n",
    "\n",
    "num_min_workers =  df[df['hours-per-week'] == min_work_hours] ['hours-per-week'].count()\n",
    "\n",
    "rich_percentage = round(df[(df['hours-per-week'] == min_work_hours) & (df['salary'] == '>50K')].shape[0] / num_min_workers * 100, 1)\n",
    "\n",
    "highest_earning_country = (df.loc[df['salary'] == '>50K','native-country'].value_counts()/ df['native-country'].value_counts() * 100).sort_values(ascending=False).idxmax()\n",
    "\n",
    "highest_earning_country_percentage = round(df[(df['salary'] == '>50K') & (df['native-country'] == highest_earning_country)]['native-country'].count() / (df[df['native-country'] == highest_earning_country]['native-country']).count() * 100,1)\n",
    "\n",
    "top_IN_occupation = df.loc[(df['salary'] == '>50K') & (df['native-country'] == 'India'),'occupation'].value_counts().sort_values(ascending = False).idxmax()"
   ]
  },
  {
   "cell_type": "code",
   "execution_count": 80,
   "id": "ff60f40a",
   "metadata": {},
   "outputs": [
    {
     "name": "stdout",
     "output_type": "stream",
     "text": [
      "Number of each race:\n",
      " White                 27816\n",
      "Black                  3124\n",
      "Asian-Pac-Islander     1039\n",
      "Amer-Indian-Eskimo      311\n",
      "Other                   271\n",
      "Name: race, dtype: int64\n",
      "Average age of men: 39.4\n",
      "Percentage with Bachelors degrees: 16.4%\n",
      "Percentage with higher education that earn >50K: 46.5%\n",
      "Percentage without higher education that earn >50K: 17.4%\n",
      "Min work time: 1 hours/week\n",
      "Percentage of rich among those who work fewest hours: 10.0%\n",
      "Country with highest percentage of rich: Iran\n",
      "Highest percentage of rich people in country: 41.9%\n",
      "Top occupations in India: Prof-specialty\n"
     ]
    }
   ],
   "source": [
    "print(\"Number of each race:\\n\", race_count) \n",
    "print(\"Average age of men:\", average_age_men)\n",
    "print(f\"Percentage with Bachelors degrees: {percentage_bachelors}%\")\n",
    "print(f\"Percentage with higher education that earn >50K: {higher_education_rich}%\")\n",
    "print(f\"Percentage without higher education that earn >50K: {lower_education_rich}%\")\n",
    "print(f\"Min work time: {min_work_hours} hours/week\")\n",
    "print(f\"Percentage of rich among those who work fewest hours: {rich_percentage}%\")\n",
    "print(\"Country with highest percentage of rich:\", highest_earning_country)\n",
    "print(f\"Highest percentage of rich people in country: {highest_earning_country_percentage}%\")\n",
    "print(\"Top occupations in India:\", top_IN_occupation)"
   ]
  }
 ],
 "metadata": {
  "kernelspec": {
   "display_name": "Python 3 (ipykernel)",
   "language": "python",
   "name": "python3"
  },
  "language_info": {
   "codemirror_mode": {
    "name": "ipython",
    "version": 3
   },
   "file_extension": ".py",
   "mimetype": "text/x-python",
   "name": "python",
   "nbconvert_exporter": "python",
   "pygments_lexer": "ipython3",
   "version": "3.9.7"
  }
 },
 "nbformat": 4,
 "nbformat_minor": 5
}
